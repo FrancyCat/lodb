{
  "nbformat": 4,
  "nbformat_minor": 0,
  "metadata": {
    "colab": {
      "provenance": [],
      "authorship_tag": "ABX9TyNpTa0Liqcju8rvmIf0Hy/j"
    },
    "kernelspec": {
      "name": "python3",
      "display_name": "Python 3"
    },
    "language_info": {
      "name": "python"
    }
  },
  "cells": [
    {
      "cell_type": "markdown",
      "source": [
        "# Populating cricket ontology"
      ],
      "metadata": {
        "id": "HlBLY62U-3r0"
      }
    },
    {
      "cell_type": "code",
      "execution_count": null,
      "metadata": {
        "colab": {
          "base_uri": "https://localhost:8080/"
        },
        "id": "8sqrjlrU-yMQ",
        "outputId": "ca8d4004-2d42-4013-95eb-05f6b4fa5bb8"
      },
      "outputs": [
        {
          "output_type": "stream",
          "name": "stdout",
          "text": [
            "Requirement already satisfied: rdflib in /usr/local/lib/python3.10/dist-packages (7.1.1)\n",
            "Requirement already satisfied: isodate<1.0.0,>=0.7.2 in /usr/local/lib/python3.10/dist-packages (from rdflib) (0.7.2)\n",
            "Requirement already satisfied: pyparsing<4,>=2.1.0 in /usr/local/lib/python3.10/dist-packages (from rdflib) (3.2.0)\n",
            "Requirement already satisfied: pyyaml in /usr/local/lib/python3.10/dist-packages (6.0.2)\n"
          ]
        }
      ],
      "source": [
        "!pip install rdflib\n",
        "!pip install pyyaml"
      ]
    },
    {
      "cell_type": "code",
      "execution_count": null,
      "metadata": {
        "id": "DVAStQ_rnCpb"
      },
      "outputs": [],
      "source": [
        "# required libraries\n",
        "import pandas as pd\n",
        "import yaml\n",
        "import os\n",
        "from pathlib import Path\n",
        "# Load the required libraries\n",
        "from rdflib import Graph, Literal, RDF, URIRef, Namespace\n",
        "# rdflib knows about some namespaces, like FOAF\n",
        "from rdflib.namespace import FOAF, XSD, SKOS\n",
        "# CHECK DATE\n",
        "import datetime"
      ]
    },
    {
      "cell_type": "code",
      "execution_count": null,
      "metadata": {
        "id": "b900tm6unCpe"
      },
      "outputs": [],
      "source": [
        "# parameters and URLs\n",
        "path = str(os.getcwd())\n",
        "#Path(os.path.abspath(os.getcwd())).parent.absolute()\n",
        "matchUrl = path + '/data/matches/noResult.yaml'\n",
        "\n",
        "# saving folder\n",
        "savePath =  path + '/data/rdf/cricketDB/'"
      ]
    },
    {
      "cell_type": "code",
      "execution_count": null,
      "metadata": {
        "id": "Eo_uDix1nCpf"
      },
      "outputs": [],
      "source": [
        "# Construct the country and the movie ontology namespaces not known by RDFlib\n",
        "CRI = Namespace(\"https://www.dei.unipd.it/lodb/cri/\")"
      ]
    },
    {
      "cell_type": "markdown",
      "source": [
        "## Outcome"
      ],
      "metadata": {
        "id": "Dis6HxfxCvHU"
      }
    },
    {
      "cell_type": "markdown",
      "source": [
        "Try to find a way to upload bunch of them all at once... maybe iteration???"
      ],
      "metadata": {
        "id": "nVbXBjk1DW3d"
      }
    },
    {
      "cell_type": "code",
      "execution_count": null,
      "metadata": {
        "id": "mmRWohnanCpg",
        "colab": {
          "base_uri": "https://localhost:8080/"
        },
        "outputId": "a9a990d9-9ec2-4417-91f0-79e837683e83"
      },
      "outputs": [
        {
          "output_type": "execute_result",
          "data": {
            "text/plain": [
              "{'result': 'no result'}"
            ]
          },
          "metadata": {},
          "execution_count": 24
        }
      ],
      "source": [
        "# Load the YAML files in memory\n",
        "with open(matchUrl, 'r') as file:\n",
        "   matchData = yaml.safe_load(file)\n",
        "\n",
        "matchData['info']['outcome']"
      ]
    },
    {
      "cell_type": "code",
      "execution_count": null,
      "metadata": {
        "id": "s_8k_cugnCpg"
      },
      "outputs": [],
      "source": [
        "#create the graph\n",
        "g = Graph()\n",
        "\n",
        "# Bind the namespaces to a prefix for more readable output\n",
        "g.bind(\"foaf\", FOAF)\n",
        "g.bind(\"xsd\", XSD)\n",
        "g.bind(\"skos\", SKOS)\n",
        "g.bind(\"cri\", CRI)"
      ]
    },
    {
      "cell_type": "code",
      "source": [
        "# Get the filename without the extension\n",
        "filename_without_extension = os.path.splitext(os.path.basename(matchUrl))[0]\n",
        "filename_without_extension"
      ],
      "metadata": {
        "colab": {
          "base_uri": "https://localhost:8080/",
          "height": 36
        },
        "id": "MrCMYtGhKgBz",
        "outputId": "e9b55c75-18da-4994-f709-d78e80f7325e"
      },
      "execution_count": null,
      "outputs": [
        {
          "output_type": "execute_result",
          "data": {
            "text/plain": [
              "'noResult'"
            ],
            "application/vnd.google.colaboratory.intrinsic+json": {
              "type": "string"
            }
          },
          "metadata": {},
          "execution_count": 26
        }
      ]
    },
    {
      "cell_type": "code",
      "execution_count": null,
      "metadata": {
        "colab": {
          "base_uri": "https://localhost:8080/"
        },
        "id": "WXYuUfgNnCpg",
        "outputId": "cb65519b-8f80-4921-d3da-eea720e9902d"
      },
      "outputs": [
        {
          "output_type": "stream",
          "name": "stdout",
          "text": [
            "CPU times: user 273 µs, sys: 0 ns, total: 273 µs\n",
            "Wall time: 279 µs\n"
          ]
        }
      ],
      "source": [
        "%%time\n",
        "#measure execution time\n",
        "\n",
        "# Create the node to add to the Graph\n",
        "\n",
        "# Creating an instance of a Match\n",
        "# the node has the namespace + the match id(filename) as URI\n",
        "idM = \"match\"+filename_without_extension\n",
        "Match = URIRef(CRI[idM])\n",
        "# Add triples using store's add() method.\n",
        "g.add((Match, RDF.type, CRI.Match))\n",
        "\n",
        "# Creating an instance of an Outcome\n",
        "# the node has the namespace + the outcome id(filename) as URI\n",
        "idO = \"outcome\"+filename_without_extension\n",
        "Outcome = URIRef(CRI[idO])\n",
        "# Add triples using store's add() method.\n",
        "g.add((Outcome, RDF.type, CRI.Outcome))\n",
        "\n",
        "# Creating 2 instances of a Team\n",
        "# the nodes have the namespace + the team name as URI\n",
        "idT0 = \"team\"+(matchData['info']['teams'][0]).replace(\" \",\"\")\n",
        "idT1 = \"team\"+(matchData['info']['teams'][1]).replace(\" \",\"\")\n",
        "Team0 = URIRef(CRI[idT0])\n",
        "Team1 = URIRef(CRI[idT1])\n",
        "# Add triples using store's add() method.\n",
        "g.add((Team0, RDF.type, CRI.Team))\n",
        "g.add((Team1, RDF.type, CRI.Team))\n",
        "\n",
        "# Checking if match has been won or not\n",
        "if \"by\" in matchData['info']['outcome']:\n",
        "    # Creating an instance of a Win\n",
        "    # the node has the namespace + the win id(filename) as URI\n",
        "    idW = \"win\"+filename_without_extension\n",
        "    Win = URIRef(CRI[idW])\n",
        "    # Add triples stating that is a win\n",
        "    g.add((Win, RDF.type, CRI.Win))\n",
        "    g.add((Outcome, CRI['outcomeDescription'], Literal(\"win\", datatype=XSD.string)))\n",
        "    # Adding triple that states which Team is the winner\n",
        "    idWinner = \"team\"+(matchData['info']['outcome']['winner']).replace(\" \",\"\")\n",
        "    Winner = URIRef(CRI[idWinner])\n",
        "    g.add((Win, CRI['wonBy'], Winner))\n",
        "\n",
        "    if \"runs\" in matchData['info']['outcome']['by']:\n",
        "      # Creating an instance of a WinByRuns\n",
        "      # the node has the namespace + the win id(filename) as URI\n",
        "      idRuns = \"winByRuns\"+filename_without_extension\n",
        "      WinByRuns = URIRef(CRI[idRuns])\n",
        "      # Add triples using store's add() method.\n",
        "      g.add((WinByRuns, RDF.type, CRI.WinByRuns))\n",
        "      g.add((WinByRuns, CRI['runs'], Literal(matchData['info']['outcome']['by']['runs'], datatype=XSD.integer)))\n",
        "      g.add((Match, CRI['hasOutcome'], WinByRuns))\n",
        "    elif \"wickets\" in matchData['info']['outcome']['by']:\n",
        "      # Creating an instance of a WinByRuns\n",
        "      # the node has the namespace + the win id(filename) as URI\n",
        "      idWickets = \"winByWickets\"+filename_without_extension\n",
        "      WinByWickets = URIRef(CRI[idWickets])\n",
        "      # Add triples using store's add() method.\n",
        "      g.add((WinByWickets, RDF.type, CRI.WinByWickets))\n",
        "      g.add((WinByWickets, CRI['wickets'], Literal(matchData['info']['outcome']['by']['wickets'], datatype=XSD.integer)))\n",
        "      g.add((Match, CRI['hasOutcome'], WinByWickets))\n",
        "\n",
        "elif \"result\" in matchData['info']['outcome']:\n",
        "  if matchData['info']['outcome']['result'] == \"tie\":\n",
        "    # Creating an instance of a Tie\n",
        "    # the node has the namespace + the Tie id(filename) as URI\n",
        "    idTie = \"tie\"+filename_without_extension\n",
        "    Tie = URIRef(CRI[idTie])\n",
        "    g.add((Tie, RDF.type, CRI.Tie))\n",
        "    g.add((Match, CRI['hasOutcome'], Tie))\n",
        "    g.add((Outcome, CRI['outcomeDescription'], Literal(matchData['info']['outcome']['result'], datatype=XSD.string)))\n",
        "    if \"eliminator\" in matchData['info']['outcome']:\n",
        "      idEliminator = \"team\"+(matchData['info']['outcome']['eliminator']).replace(\" \",\"\")\n",
        "      Eliminator = URIRef(CRI[idEliminator])\n",
        "      g.add((Tie, CRI['hasTieBreakWinner'], Eliminator))\n",
        "    elif \"bowl_out\" in matchData['info']['outcome']:\n",
        "      idBowlOut = \"team\"+(matchData['info']['outcome']['bowl_out']).replace(\" \",\"\")\n",
        "      BowlOut = URIRef(CRI[idBowlOut])\n",
        "      g.add((Tie, CRI['hasTieBreakWinner'], BowlOut))\n",
        "  elif matchData['info']['outcome']['result'] == \"no result\":\n",
        "    g.add((Match, CRI['hasOutcome'], Outcome))\n",
        "    g.add((Outcome, CRI['outcomeDescription'], Literal(matchData['info']['outcome']['result'], datatype=XSD.string)))"
      ]
    },
    {
      "cell_type": "code",
      "execution_count": null,
      "metadata": {
        "colab": {
          "base_uri": "https://localhost:8080/"
        },
        "id": "W2p5Nl8tnCph",
        "outputId": "7665a970-c724-4e7e-a6c4-f0f751f4bbe2"
      },
      "outputs": [
        {
          "output_type": "stream",
          "name": "stdout",
          "text": [
            "--- saving serialization ---\n",
            "CPU times: user 1.37 ms, sys: 837 µs, total: 2.21 ms\n",
            "Wall time: 4.19 ms\n"
          ]
        }
      ],
      "source": [
        "%%time\n",
        "# print all the data in the Turtle format\n",
        "print(\"--- saving serialization ---\")\n",
        "# may have to change to match\n",
        "with open(savePath + 'newoutcomesNoResult-noString.ttl', 'w') as file:\n",
        "    file.write(g.serialize(format='turtle'))\n",
        "    #.decode(\"utf-8\")\n"
      ]
    }
  ]
}