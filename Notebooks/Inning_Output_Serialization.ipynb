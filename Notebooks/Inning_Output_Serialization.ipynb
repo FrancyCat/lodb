{
  "cells": [
    {
      "cell_type": "code",
      "source": [
        "!pip install rdflib\n",
        "!pip install pyyaml"
      ],
      "metadata": {
        "colab": {
          "base_uri": "https://localhost:8080/"
        },
        "id": "h_liTFPQmFcV",
        "outputId": "5be43950-0a01-4dfd-f695-d73cc6c7438e"
      },
      "id": "h_liTFPQmFcV",
      "execution_count": 1,
      "outputs": [
        {
          "output_type": "stream",
          "name": "stdout",
          "text": [
            "Requirement already satisfied: rdflib in /usr/local/lib/python3.10/dist-packages (7.1.1)\n",
            "Requirement already satisfied: isodate<1.0.0,>=0.7.2 in /usr/local/lib/python3.10/dist-packages (from rdflib) (0.7.2)\n",
            "Requirement already satisfied: pyparsing<4,>=2.1.0 in /usr/local/lib/python3.10/dist-packages (from rdflib) (3.2.0)\n",
            "Requirement already satisfied: pyyaml in /usr/local/lib/python3.10/dist-packages (6.0.2)\n"
          ]
        }
      ]
    },
    {
      "cell_type": "code",
      "source": [
        "import os\n",
        "import yaml\n",
        "from rdflib import Graph, Namespace, URIRef, Literal\n",
        "from rdflib.namespace import RDF, XSD, FOAF, SKOS"
      ],
      "metadata": {
        "id": "8uXZwa-PmSfZ"
      },
      "id": "8uXZwa-PmSfZ",
      "execution_count": 2,
      "outputs": []
    },
    {
      "cell_type": "code",
      "source": [
        "# Parameters and URLs\n",
        "path = str(os.getcwd())\n",
        "matchUrl = '/content/355988.yaml'  # Update path to match your setup\n",
        "savePath = '/content/Innings_Serialization'  # Path to save RDF files"
      ],
      "metadata": {
        "id": "aHzpn_dDmlzX"
      },
      "id": "aHzpn_dDmlzX",
      "execution_count": 3,
      "outputs": []
    },
    {
      "cell_type": "code",
      "source": [
        "# Define namespaces\n",
        "CRI = Namespace(\"https://www.dei.unipd.it/lodb/cri/\")"
      ],
      "metadata": {
        "id": "76by4Stfmq6O"
      },
      "id": "76by4Stfmq6O",
      "execution_count": 4,
      "outputs": []
    },
    {
      "cell_type": "code",
      "source": [
        "# Load the YAML file in memory\n",
        "with open(matchUrl, 'r') as file:\n",
        "    matchData = yaml.safe_load(file)"
      ],
      "metadata": {
        "id": "Em5LDvsUmwj3"
      },
      "id": "Em5LDvsUmwj3",
      "execution_count": 5,
      "outputs": []
    },
    {
      "cell_type": "code",
      "source": [
        "# Check the loaded match data (debugging step)\n",
        "print(matchData)"
      ],
      "metadata": {
        "colab": {
          "base_uri": "https://localhost:8080/"
        },
        "id": "wmgOeJ_Vm2ri",
        "outputId": "110837fb-df89-4132-a784-6de9df39747e"
      },
      "id": "wmgOeJ_Vm2ri",
      "execution_count": 6,
      "outputs": [
        {
          "output_type": "stream",
          "name": "stdout",
          "text": [
            "{'meta': {'data_version': 0.91, 'created': datetime.date(2014, 5, 31), 'revision': 3}, 'info': {'balls_per_over': 6, 'city': 'Nottingham', 'dates': [datetime.date(2009, 6, 18)], 'gender': 'female', 'match_type': 'T20', 'neutral_venue': 1, 'outcome': {'by': {'runs': 52}, 'winner': 'New Zealand'}, 'overs': 20, 'player_of_match': ['AL Watkins'], 'players': {'India': ['PG Raut', 'Anjum Chopra', 'M Raj', 'H Kaur', 'R Malhotra', 'A Sharma', 'S Naik', 'R Dhar', 'P Roy', 'J Goswami', 'G Sultana'], 'New Zealand': ['LR Doolan', 'SW Bates', 'AL Watkins', 'AE Satterthwaite', 'NJ Browne', 'SJ McGlashan', 'SFM Devine', 'RH Priest', 'KL Pulford', 'SEA Ruck', 'SJ Tsukigawa']}, 'registry': {'people': {'Anjum Chopra': '57a7b064', 'A Sharma': 'a3ead8da', 'AE Satterthwaite': '72b7ed1e', 'AL Watkins': 'd395e33c', 'Asad Rauf': '861606b7', 'BC Broad': 'd6a7dd38', 'G Sultana': 'ff227198', 'H Kaur': '53cd8da6', 'IJ Gould': 'a9dfdf6c', 'J Goswami': '84f1ae7f', 'KL Pulford': '25654c89', 'LR Doolan': '4ab6d138', 'M Raj': 'ec2269dc', 'MR Benson': '790e14d3', 'NJ Browne': 'a6aac76b', 'NJ Llong': '573fb985', 'P Roy': 'faaab47c', 'PG Raut': '4958ad5f', 'R Dhar': '050492b0', 'R Malhotra': 'e13f5984', 'RH Priest': 'e6f0408a', 'S Naik': '1318a5f1', 'SEA Ruck': '8879d882', 'SFM Devine': 'de69af96', 'SJ McGlashan': 'af71535d', 'SJ Tsukigawa': 'c8f378cc', 'SW Bates': '89bbc67a'}}, 'teams': ['India', 'New Zealand'], 'toss': {'decision': 'bat', 'winner': 'New Zealand'}, 'umpires': ['Asad Rauf', 'MR Benson'], 'venue': 'Trent Bridge'}, 'innings': [{'1st innings': {'team': 'New Zealand', 'deliveries': [{0.1: {'batsman': 'LR Doolan', 'bowler': 'J Goswami', 'non_striker': 'SW Bates', 'runs': {'batsman': 0, 'extras': 0, 'total': 0}}}, {0.2: {'batsman': 'LR Doolan', 'bowler': 'J Goswami', 'non_striker': 'SW Bates', 'runs': {'batsman': 1, 'extras': 0, 'total': 1}}}, {0.3: {'batsman': 'SW Bates', 'bowler': 'J Goswami', 'non_striker': 'LR Doolan', 'runs': {'batsman': 2, 'extras': 0, 'total': 2}}}, {0.4: {'batsman': 'SW Bates', 'bowler': 'J Goswami', 'non_striker': 'LR Doolan', 'runs': {'batsman': 0, 'extras': 0, 'total': 0}}}, {0.5: {'batsman': 'SW Bates', 'bowler': 'J Goswami', 'non_striker': 'LR Doolan', 'runs': {'batsman': 0, 'extras': 0, 'total': 0}}}, {0.6: {'batsman': 'SW Bates', 'bowler': 'J Goswami', 'non_striker': 'LR Doolan', 'runs': {'batsman': 0, 'extras': 0, 'total': 0}}}, {1.1: {'batsman': 'LR Doolan', 'bowler': 'R Dhar', 'non_striker': 'SW Bates', 'runs': {'batsman': 0, 'extras': 0, 'total': 0}}}, {1.2: {'batsman': 'LR Doolan', 'bowler': 'R Dhar', 'non_striker': 'SW Bates', 'runs': {'batsman': 0, 'extras': 0, 'total': 0}}}, {1.3: {'batsman': 'LR Doolan', 'bowler': 'R Dhar', 'non_striker': 'SW Bates', 'runs': {'batsman': 2, 'extras': 0, 'total': 2}}}, {1.4: {'batsman': 'LR Doolan', 'bowler': 'R Dhar', 'non_striker': 'SW Bates', 'runs': {'batsman': 0, 'extras': 0, 'total': 0}, 'wicket': {'fielders': ['Anjum Chopra'], 'kind': 'caught', 'player_out': 'LR Doolan'}}}, {1.5: {'batsman': 'SW Bates', 'bowler': 'R Dhar', 'non_striker': 'AL Watkins', 'runs': {'batsman': 0, 'extras': 0, 'total': 0}}}, {1.6: {'batsman': 'SW Bates', 'bowler': 'R Dhar', 'non_striker': 'AL Watkins', 'runs': {'batsman': 4, 'extras': 0, 'total': 4}}}, {2.1: {'batsman': 'AL Watkins', 'bowler': 'J Goswami', 'extras': {'wides': 1}, 'non_striker': 'SW Bates', 'runs': {'batsman': 0, 'extras': 1, 'total': 1}}}, {2.2: {'batsman': 'AL Watkins', 'bowler': 'J Goswami', 'non_striker': 'SW Bates', 'runs': {'batsman': 0, 'extras': 0, 'total': 0}}}, {2.3: {'batsman': 'AL Watkins', 'bowler': 'J Goswami', 'non_striker': 'SW Bates', 'runs': {'batsman': 0, 'extras': 0, 'total': 0}}}, {2.4: {'batsman': 'AL Watkins', 'bowler': 'J Goswami', 'non_striker': 'SW Bates', 'runs': {'batsman': 4, 'extras': 0, 'total': 4}}}, {2.5: {'batsman': 'AL Watkins', 'bowler': 'J Goswami', 'non_striker': 'SW Bates', 'runs': {'batsman': 0, 'extras': 0, 'total': 0}}}, {2.6: {'batsman': 'AL Watkins', 'bowler': 'J Goswami', 'non_striker': 'SW Bates', 'runs': {'batsman': 2, 'extras': 0, 'total': 2}}}, {2.7: {'batsman': 'AL Watkins', 'bowler': 'J Goswami', 'non_striker': 'SW Bates', 'runs': {'batsman': 0, 'extras': 0, 'total': 0}}}, {3.1: {'batsman': 'SW Bates', 'bowler': 'R Dhar', 'non_striker': 'AL Watkins', 'runs': {'batsman': 0, 'extras': 0, 'total': 0}}}, {3.2: {'batsman': 'SW Bates', 'bowler': 'R Dhar', 'non_striker': 'AL Watkins', 'runs': {'batsman': 0, 'extras': 0, 'total': 0}}}, {3.3: {'batsman': 'SW Bates', 'bowler': 'R Dhar', 'non_striker': 'AL Watkins', 'runs': {'batsman': 0, 'extras': 0, 'total': 0}}}, {3.4: {'batsman': 'SW Bates', 'bowler': 'R Dhar', 'non_striker': 'AL Watkins', 'runs': {'batsman': 0, 'extras': 0, 'total': 0}}}, {3.5: {'batsman': 'SW Bates', 'bowler': 'R Dhar', 'non_striker': 'AL Watkins', 'runs': {'batsman': 0, 'extras': 0, 'total': 0}}}, {3.6: {'batsman': 'SW Bates', 'bowler': 'R Dhar', 'non_striker': 'AL Watkins', 'runs': {'batsman': 0, 'extras': 0, 'total': 0}}}, {4.1: {'batsman': 'AL Watkins', 'bowler': 'J Goswami', 'non_striker': 'SW Bates', 'runs': {'batsman': 0, 'extras': 0, 'total': 0}}}, {4.2: {'batsman': 'AL Watkins', 'bowler': 'J Goswami', 'non_striker': 'SW Bates', 'runs': {'batsman': 4, 'extras': 0, 'total': 4}}}, {4.3: {'batsman': 'AL Watkins', 'bowler': 'J Goswami', 'non_striker': 'SW Bates', 'runs': {'batsman': 0, 'extras': 0, 'total': 0}}}, {4.4: {'batsman': 'AL Watkins', 'bowler': 'J Goswami', 'non_striker': 'SW Bates', 'runs': {'batsman': 0, 'extras': 0, 'total': 0}}}, {4.5: {'batsman': 'AL Watkins', 'bowler': 'J Goswami', 'non_striker': 'SW Bates', 'runs': {'batsman': 0, 'extras': 0, 'total': 0}}}, {4.6: {'batsman': 'AL Watkins', 'bowler': 'J Goswami', 'non_striker': 'SW Bates', 'runs': {'batsman': 0, 'extras': 0, 'total': 0}}}, {5.1: {'batsman': 'SW Bates', 'bowler': 'R Dhar', 'non_striker': 'AL Watkins', 'runs': {'batsman': 1, 'extras': 0, 'total': 1}}}, {5.2: {'batsman': 'AL Watkins', 'bowler': 'R Dhar', 'extras': {'wides': 1}, 'non_striker': 'SW Bates', 'runs': {'batsman': 0, 'extras': 1, 'total': 1}}}, {5.3: {'batsman': 'AL Watkins', 'bowler': 'R Dhar', 'non_striker': 'SW Bates', 'runs': {'batsman': 2, 'extras': 0, 'total': 2}}}, {5.4: {'batsman': 'AL Watkins', 'bowler': 'R Dhar', 'non_striker': 'SW Bates', 'runs': {'batsman': 0, 'extras': 0, 'total': 0}}}, {5.5: {'batsman': 'AL Watkins', 'bowler': 'R Dhar', 'non_striker': 'SW Bates', 'runs': {'batsman': 0, 'extras': 0, 'total': 0}}}, {5.6: {'batsman': 'AL Watkins', 'bowler': 'R Dhar', 'non_striker': 'SW Bates', 'runs': {'batsman': 4, 'extras': 0, 'total': 4}}}, {5.7: {'batsman': 'AL Watkins', 'bowler': 'R Dhar', 'non_striker': 'SW Bates', 'runs': {'batsman': 4, 'extras': 0, 'total': 4}}}, {6.1: {'batsman': 'SW Bates', 'bowler': 'A Sharma', 'non_striker': 'AL Watkins', 'runs': {'batsman': 3, 'extras': 0, 'total': 3}}}, {6.2: {'batsman': 'AL Watkins', 'bowler': 'A Sharma', 'extras': {'wides': 5}, 'non_striker': 'SW Bates', 'runs': {'batsman': 0, 'extras': 5, 'total': 5}}}, {6.3: {'batsman': 'AL Watkins', 'bowler': 'A Sharma', 'non_striker': 'SW Bates', 'runs': {'batsman': 4, 'extras': 0, 'total': 4}}}, {6.4: {'batsman': 'AL Watkins', 'bowler': 'A Sharma', 'non_striker': 'SW Bates', 'runs': {'batsman': 1, 'extras': 0, 'total': 1}}}, {6.5: {'batsman': 'SW Bates', 'bowler': 'A Sharma', 'non_striker': 'AL Watkins', 'runs': {'batsman': 0, 'extras': 0, 'total': 0}, 'wicket': {'fielders': ['H Kaur'], 'kind': 'caught', 'player_out': 'SW Bates'}}}, {6.6: {'batsman': 'AE Satterthwaite', 'bowler': 'A Sharma', 'non_striker': 'AL Watkins', 'runs': {'batsman': 0, 'extras': 0, 'total': 0}}}, {6.7: {'batsman': 'AE Satterthwaite', 'bowler': 'A Sharma', 'non_striker': 'AL Watkins', 'runs': {'batsman': 1, 'extras': 0, 'total': 1}}}, {7.1: {'batsman': 'AE Satterthwaite', 'bowler': 'H Kaur', 'non_striker': 'AL Watkins', 'runs': {'batsman': 4, 'extras': 0, 'total': 4}}}, {7.2: {'batsman': 'AE Satterthwaite', 'bowler': 'H Kaur', 'non_striker': 'AL Watkins', 'runs': {'batsman': 1, 'extras': 0, 'total': 1}}}, {7.3: {'batsman': 'AL Watkins', 'bowler': 'H Kaur', 'non_striker': 'AE Satterthwaite', 'runs': {'batsman': 4, 'extras': 0, 'total': 4}}}, {7.4: {'batsman': 'AL Watkins', 'bowler': 'H Kaur', 'non_striker': 'AE Satterthwaite', 'runs': {'batsman': 4, 'extras': 0, 'total': 4}}}, {7.5: {'batsman': 'AL Watkins', 'bowler': 'H Kaur', 'non_striker': 'AE Satterthwaite', 'runs': {'batsman': 0, 'extras': 0, 'total': 0}}}, {7.6: {'batsman': 'AL Watkins', 'bowler': 'H Kaur', 'non_striker': 'AE Satterthwaite', 'runs': {'batsman': 1, 'extras': 0, 'total': 1}}}, {8.1: {'batsman': 'AL Watkins', 'bowler': 'A Sharma', 'non_striker': 'AE Satterthwaite', 'runs': {'batsman': 1, 'extras': 0, 'total': 1}}}, {8.2: {'batsman': 'AE Satterthwaite', 'bowler': 'A Sharma', 'non_striker': 'AL Watkins', 'runs': {'batsman': 0, 'extras': 0, 'total': 0}}}, {8.3: {'batsman': 'AE Satterthwaite', 'bowler': 'A Sharma', 'non_striker': 'AL Watkins', 'runs': {'batsman': 0, 'extras': 0, 'total': 0}}}, {8.4: {'batsman': 'AE Satterthwaite', 'bowler': 'A Sharma', 'non_striker': 'AL Watkins', 'runs': {'batsman': 0, 'extras': 0, 'total': 0}}}, {8.5: {'batsman': 'AE Satterthwaite', 'bowler': 'A Sharma', 'non_striker': 'AL Watkins', 'runs': {'batsman': 0, 'extras': 0, 'total': 0}}}, {8.6: {'batsman': 'AE Satterthwaite', 'bowler': 'A Sharma', 'non_striker': 'AL Watkins', 'runs': {'batsman': 1, 'extras': 0, 'total': 1}}}, {9.1: {'batsman': 'AE Satterthwaite', 'bowler': 'PG Raut', 'non_striker': 'AL Watkins', 'runs': {'batsman': 1, 'extras': 0, 'total': 1}}}, {9.2: {'batsman': 'AL Watkins', 'bowler': 'PG Raut', 'non_striker': 'AE Satterthwaite', 'runs': {'batsman': 1, 'extras': 0, 'total': 1}}}, {9.3: {'batsman': 'AE Satterthwaite', 'bowler': 'PG Raut', 'non_striker': 'AL Watkins', 'runs': {'batsman': 1, 'extras': 0, 'total': 1}}}, {9.4: {'batsman': 'AL Watkins', 'bowler': 'PG Raut', 'non_striker': 'AE Satterthwaite', 'runs': {'batsman': 1, 'extras': 0, 'total': 1}}}, {9.5: {'batsman': 'AE Satterthwaite', 'bowler': 'PG Raut', 'non_striker': 'AL Watkins', 'runs': {'batsman': 1, 'extras': 0, 'total': 1}}}, {9.6: {'batsman': 'AL Watkins', 'bowler': 'PG Raut', 'non_striker': 'AE Satterthwaite', 'runs': {'batsman': 0, 'extras': 0, 'total': 0}}}, {10.1: {'batsman': 'AE Satterthwaite', 'bowler': 'A Sharma', 'extras': {'legbyes': 2}, 'non_striker': 'AL Watkins', 'runs': {'batsman': 0, 'extras': 2, 'total': 2}}}, {10.2: {'batsman': 'AE Satterthwaite', 'bowler': 'A Sharma', 'non_striker': 'AL Watkins', 'runs': {'batsman': 0, 'extras': 0, 'total': 0}}}, {10.3: {'batsman': 'AE Satterthwaite', 'bowler': 'A Sharma', 'non_striker': 'AL Watkins', 'runs': {'batsman': 0, 'extras': 0, 'total': 0}}}, {10.4: {'batsman': 'AE Satterthwaite', 'bowler': 'A Sharma', 'non_striker': 'AL Watkins', 'runs': {'batsman': 0, 'extras': 0, 'total': 0}, 'wicket': {'fielders': ['M Raj'], 'kind': 'run out', 'player_out': 'AE Satterthwaite'}}}, {10.5: {'batsman': 'AL Watkins', 'bowler': 'A Sharma', 'non_striker': 'NJ Browne', 'runs': {'batsman': 0, 'extras': 0, 'total': 0}}}, {10.6: {'batsman': 'AL Watkins', 'bowler': 'A Sharma', 'non_striker': 'NJ Browne', 'runs': {'batsman': 1, 'extras': 0, 'total': 1}}}, {11.1: {'batsman': 'AL Watkins', 'bowler': 'PG Raut', 'non_striker': 'NJ Browne', 'runs': {'batsman': 4, 'extras': 0, 'total': 4}}}, {11.2: {'batsman': 'AL Watkins', 'bowler': 'PG Raut', 'non_striker': 'NJ Browne', 'runs': {'batsman': 0, 'extras': 0, 'total': 0}}}, {11.3: {'batsman': 'AL Watkins', 'bowler': 'PG Raut', 'non_striker': 'NJ Browne', 'runs': {'batsman': 0, 'extras': 0, 'total': 0}}}, {11.4: {'batsman': 'AL Watkins', 'bowler': 'PG Raut', 'non_striker': 'NJ Browne', 'runs': {'batsman': 1, 'extras': 0, 'total': 1}}}, {11.5: {'batsman': 'NJ Browne', 'bowler': 'PG Raut', 'non_striker': 'AL Watkins', 'runs': {'batsman': 1, 'extras': 0, 'total': 1}}}, {11.6: {'batsman': 'AL Watkins', 'bowler': 'PG Raut', 'non_striker': 'NJ Browne', 'runs': {'batsman': 1, 'extras': 0, 'total': 1}}}, {12.1: {'batsman': 'AL Watkins', 'bowler': 'G Sultana', 'non_striker': 'NJ Browne', 'runs': {'batsman': 1, 'extras': 0, 'total': 1}}}, {12.2: {'batsman': 'NJ Browne', 'bowler': 'G Sultana', 'non_striker': 'AL Watkins', 'runs': {'batsman': 0, 'extras': 0, 'total': 0}}}, {12.3: {'batsman': 'NJ Browne', 'bowler': 'G Sultana', 'non_striker': 'AL Watkins', 'runs': {'batsman': 0, 'extras': 0, 'total': 0}}}, {12.4: {'batsman': 'NJ Browne', 'bowler': 'G Sultana', 'non_striker': 'AL Watkins', 'runs': {'batsman': 1, 'extras': 0, 'total': 1}}}, {12.5: {'batsman': 'AL Watkins', 'bowler': 'G Sultana', 'non_striker': 'NJ Browne', 'runs': {'batsman': 2, 'extras': 0, 'total': 2}}}, {12.6: {'batsman': 'AL Watkins', 'bowler': 'G Sultana', 'non_striker': 'NJ Browne', 'runs': {'batsman': 1, 'extras': 0, 'total': 1}}}, {13.1: {'batsman': 'AL Watkins', 'bowler': 'PG Raut', 'non_striker': 'NJ Browne', 'runs': {'batsman': 1, 'extras': 0, 'total': 1}}}, {13.2: {'batsman': 'NJ Browne', 'bowler': 'PG Raut', 'non_striker': 'AL Watkins', 'runs': {'batsman': 1, 'extras': 0, 'total': 1}}}, {13.3: {'batsman': 'AL Watkins', 'bowler': 'PG Raut', 'non_striker': 'NJ Browne', 'runs': {'batsman': 0, 'extras': 0, 'total': 0}}}, {13.4: {'batsman': 'AL Watkins', 'bowler': 'PG Raut', 'non_striker': 'NJ Browne', 'runs': {'batsman': 2, 'extras': 0, 'total': 2}}}, {13.5: {'batsman': 'AL Watkins', 'bowler': 'PG Raut', 'non_striker': 'NJ Browne', 'runs': {'batsman': 0, 'extras': 0, 'total': 0}}}, {13.6: {'batsman': 'AL Watkins', 'bowler': 'PG Raut', 'non_striker': 'NJ Browne', 'runs': {'batsman': 1, 'extras': 0, 'total': 1}}}, {14.1: {'batsman': 'AL Watkins', 'bowler': 'G Sultana', 'extras': {'wides': 1}, 'non_striker': 'NJ Browne', 'runs': {'batsman': 0, 'extras': 1, 'total': 1}}}, {14.2: {'batsman': 'AL Watkins', 'bowler': 'G Sultana', 'non_striker': 'NJ Browne', 'runs': {'batsman': 1, 'extras': 0, 'total': 1}}}, {14.3: {'batsman': 'NJ Browne', 'bowler': 'G Sultana', 'non_striker': 'AL Watkins', 'runs': {'batsman': 1, 'extras': 0, 'total': 1}}}, {14.4: {'batsman': 'AL Watkins', 'bowler': 'G Sultana', 'non_striker': 'NJ Browne', 'runs': {'batsman': 1, 'extras': 0, 'total': 1}}}, {14.5: {'batsman': 'NJ Browne', 'bowler': 'G Sultana', 'non_striker': 'AL Watkins', 'runs': {'batsman': 1, 'extras': 0, 'total': 1}}}, {14.6: {'batsman': 'AL Watkins', 'bowler': 'G Sultana', 'non_striker': 'NJ Browne', 'runs': {'batsman': 1, 'extras': 0, 'total': 1}}}, {14.7: {'batsman': 'NJ Browne', 'bowler': 'G Sultana', 'non_striker': 'AL Watkins', 'runs': {'batsman': 0, 'extras': 0, 'total': 0}}}, {15.1: {'batsman': 'AL Watkins', 'bowler': 'P Roy', 'non_striker': 'NJ Browne', 'runs': {'batsman': 2, 'extras': 0, 'total': 2}}}, {15.2: {'batsman': 'AL Watkins', 'bowler': 'P Roy', 'non_striker': 'NJ Browne', 'runs': {'batsman': 1, 'extras': 0, 'total': 1}}}, {15.3: {'batsman': 'NJ Browne', 'bowler': 'P Roy', 'non_striker': 'AL Watkins', 'runs': {'batsman': 0, 'extras': 0, 'total': 0}, 'wicket': {'fielders': ['S Naik'], 'kind': 'stumped', 'player_out': 'NJ Browne'}}}, {15.4: {'batsman': 'SJ McGlashan', 'bowler': 'P Roy', 'non_striker': 'AL Watkins', 'runs': {'batsman': 0, 'extras': 0, 'total': 0}}}, {15.5: {'batsman': 'SJ McGlashan', 'bowler': 'P Roy', 'non_striker': 'AL Watkins', 'runs': {'batsman': 1, 'extras': 0, 'total': 1}}}, {15.6: {'batsman': 'AL Watkins', 'bowler': 'P Roy', 'non_striker': 'SJ McGlashan', 'runs': {'batsman': 2, 'extras': 0, 'total': 2}}}, {16.1: {'batsman': 'SJ McGlashan', 'bowler': 'G Sultana', 'non_striker': 'AL Watkins', 'runs': {'batsman': 1, 'extras': 0, 'total': 1}}}, {16.2: {'batsman': 'AL Watkins', 'bowler': 'G Sultana', 'non_striker': 'SJ McGlashan', 'runs': {'batsman': 4, 'extras': 0, 'total': 4}}}, {16.3: {'batsman': 'AL Watkins', 'bowler': 'G Sultana', 'non_striker': 'SJ McGlashan', 'runs': {'batsman': 4, 'extras': 0, 'total': 4}}}, {16.4: {'batsman': 'AL Watkins', 'bowler': 'G Sultana', 'non_striker': 'SJ McGlashan', 'runs': {'batsman': 1, 'extras': 0, 'total': 1}}}, {16.5: {'batsman': 'SJ McGlashan', 'bowler': 'G Sultana', 'non_striker': 'AL Watkins', 'runs': {'batsman': 1, 'extras': 0, 'total': 1}}}, {16.6: {'batsman': 'AL Watkins', 'bowler': 'G Sultana', 'non_striker': 'SJ McGlashan', 'runs': {'batsman': 6, 'extras': 0, 'total': 6}}}, {17.1: {'batsman': 'SJ McGlashan', 'bowler': 'A Sharma', 'non_striker': 'AL Watkins', 'runs': {'batsman': 0, 'extras': 0, 'total': 0}}}, {17.2: {'batsman': 'SJ McGlashan', 'bowler': 'A Sharma', 'non_striker': 'AL Watkins', 'runs': {'batsman': 1, 'extras': 0, 'total': 1}}}, {17.3: {'batsman': 'AL Watkins', 'bowler': 'A Sharma', 'non_striker': 'SJ McGlashan', 'runs': {'batsman': 2, 'extras': 0, 'total': 2}}}, {17.4: {'batsman': 'AL Watkins', 'bowler': 'A Sharma', 'non_striker': 'SJ McGlashan', 'runs': {'batsman': 1, 'extras': 0, 'total': 1}}}, {17.5: {'batsman': 'SJ McGlashan', 'bowler': 'A Sharma', 'non_striker': 'AL Watkins', 'runs': {'batsman': 0, 'extras': 0, 'total': 0}}}, {17.6: {'batsman': 'SJ McGlashan', 'bowler': 'A Sharma', 'non_striker': 'AL Watkins', 'runs': {'batsman': 0, 'extras': 0, 'total': 0}, 'wicket': {'kind': 'bowled', 'player_out': 'SJ McGlashan'}}}, {18.1: {'batsman': 'AL Watkins', 'bowler': 'J Goswami', 'non_striker': 'SFM Devine', 'runs': {'batsman': 1, 'extras': 0, 'total': 1}}}, {18.2: {'batsman': 'SFM Devine', 'bowler': 'J Goswami', 'non_striker': 'AL Watkins', 'runs': {'batsman': 2, 'extras': 0, 'total': 2}}}, {18.3: {'batsman': 'SFM Devine', 'bowler': 'J Goswami', 'non_striker': 'AL Watkins', 'runs': {'batsman': 2, 'extras': 0, 'total': 2}}}, {18.4: {'batsman': 'SFM Devine', 'bowler': 'J Goswami', 'non_striker': 'AL Watkins', 'runs': {'batsman': 0, 'extras': 0, 'total': 0}}}, {18.5: {'batsman': 'SFM Devine', 'bowler': 'J Goswami', 'non_striker': 'AL Watkins', 'runs': {'batsman': 1, 'extras': 0, 'total': 1}}}, {18.6: {'batsman': 'AL Watkins', 'bowler': 'J Goswami', 'non_striker': 'SFM Devine', 'runs': {'batsman': 2, 'extras': 0, 'total': 2}}}, {19.1: {'batsman': 'SFM Devine', 'bowler': 'R Dhar', 'non_striker': 'AL Watkins', 'runs': {'batsman': 2, 'extras': 0, 'total': 2}}}, {19.2: {'batsman': 'SFM Devine', 'bowler': 'R Dhar', 'non_striker': 'AL Watkins', 'runs': {'batsman': 6, 'extras': 0, 'total': 6}}}, {19.3: {'batsman': 'SFM Devine', 'bowler': 'R Dhar', 'non_striker': 'AL Watkins', 'runs': {'batsman': 0, 'extras': 0, 'total': 0}}}, {19.4: {'batsman': 'SFM Devine', 'bowler': 'R Dhar', 'non_striker': 'AL Watkins', 'runs': {'batsman': 1, 'extras': 0, 'total': 1}}}, {19.5: {'batsman': 'AL Watkins', 'bowler': 'R Dhar', 'non_striker': 'SFM Devine', 'runs': {'batsman': 2, 'extras': 0, 'total': 2}}}, {19.6: {'batsman': 'AL Watkins', 'bowler': 'R Dhar', 'non_striker': 'SFM Devine', 'runs': {'batsman': 6, 'extras': 0, 'total': 6}}}]}}, {'2nd innings': {'team': 'India', 'deliveries': [{0.1: {'batsman': 'PG Raut', 'bowler': 'SFM Devine', 'non_striker': 'Anjum Chopra', 'runs': {'batsman': 0, 'extras': 0, 'total': 0}}}, {0.2: {'batsman': 'PG Raut', 'bowler': 'SFM Devine', 'non_striker': 'Anjum Chopra', 'runs': {'batsman': 4, 'extras': 0, 'total': 4}}}, {0.3: {'batsman': 'PG Raut', 'bowler': 'SFM Devine', 'non_striker': 'Anjum Chopra', 'runs': {'batsman': 0, 'extras': 0, 'total': 0}}}, {0.4: {'batsman': 'PG Raut', 'bowler': 'SFM Devine', 'non_striker': 'Anjum Chopra', 'runs': {'batsman': 1, 'extras': 0, 'total': 1}}}, {0.5: {'batsman': 'Anjum Chopra', 'bowler': 'SFM Devine', 'non_striker': 'PG Raut', 'runs': {'batsman': 1, 'extras': 0, 'total': 1}}}, {0.6: {'batsman': 'PG Raut', 'bowler': 'SFM Devine', 'non_striker': 'Anjum Chopra', 'runs': {'batsman': 0, 'extras': 0, 'total': 0}}}, {1.1: {'batsman': 'Anjum Chopra', 'bowler': 'SEA Ruck', 'non_striker': 'PG Raut', 'runs': {'batsman': 0, 'extras': 0, 'total': 0}}}, {1.2: {'batsman': 'Anjum Chopra', 'bowler': 'SEA Ruck', 'non_striker': 'PG Raut', 'runs': {'batsman': 1, 'extras': 0, 'total': 1}}}, {1.3: {'batsman': 'PG Raut', 'bowler': 'SEA Ruck', 'non_striker': 'Anjum Chopra', 'runs': {'batsman': 0, 'extras': 0, 'total': 0}, 'wicket': {'fielders': ['SFM Devine'], 'kind': 'caught', 'player_out': 'PG Raut'}}}, {1.4: {'batsman': 'M Raj', 'bowler': 'SEA Ruck', 'non_striker': 'Anjum Chopra', 'runs': {'batsman': 0, 'extras': 0, 'total': 0}}}, {1.5: {'batsman': 'M Raj', 'bowler': 'SEA Ruck', 'non_striker': 'Anjum Chopra', 'runs': {'batsman': 0, 'extras': 0, 'total': 0}}}, {1.6: {'batsman': 'M Raj', 'bowler': 'SEA Ruck', 'non_striker': 'Anjum Chopra', 'runs': {'batsman': 4, 'extras': 0, 'total': 4}}}, {2.1: {'batsman': 'Anjum Chopra', 'bowler': 'SFM Devine', 'non_striker': 'M Raj', 'runs': {'batsman': 0, 'extras': 0, 'total': 0}}}, {2.2: {'batsman': 'Anjum Chopra', 'bowler': 'SFM Devine', 'non_striker': 'M Raj', 'runs': {'batsman': 0, 'extras': 0, 'total': 0}}}, {2.3: {'batsman': 'Anjum Chopra', 'bowler': 'SFM Devine', 'non_striker': 'M Raj', 'runs': {'batsman': 2, 'extras': 0, 'total': 2}}}, {2.4: {'batsman': 'Anjum Chopra', 'bowler': 'SFM Devine', 'non_striker': 'M Raj', 'runs': {'batsman': 1, 'extras': 0, 'total': 1}}}, {2.5: {'batsman': 'M Raj', 'bowler': 'SFM Devine', 'non_striker': 'Anjum Chopra', 'runs': {'batsman': 1, 'extras': 0, 'total': 1}}}, {2.6: {'batsman': 'Anjum Chopra', 'bowler': 'SFM Devine', 'non_striker': 'M Raj', 'runs': {'batsman': 1, 'extras': 0, 'total': 1}}}, {3.1: {'batsman': 'Anjum Chopra', 'bowler': 'SEA Ruck', 'non_striker': 'M Raj', 'runs': {'batsman': 0, 'extras': 0, 'total': 0}}}, {3.2: {'batsman': 'Anjum Chopra', 'bowler': 'SEA Ruck', 'non_striker': 'M Raj', 'runs': {'batsman': 0, 'extras': 0, 'total': 0}}}, {3.3: {'batsman': 'Anjum Chopra', 'bowler': 'SEA Ruck', 'non_striker': 'M Raj', 'runs': {'batsman': 0, 'extras': 0, 'total': 0}}}, {3.4: {'batsman': 'Anjum Chopra', 'bowler': 'SEA Ruck', 'non_striker': 'M Raj', 'runs': {'batsman': 0, 'extras': 0, 'total': 0}}}, {3.5: {'batsman': 'Anjum Chopra', 'bowler': 'SEA Ruck', 'non_striker': 'M Raj', 'runs': {'batsman': 0, 'extras': 0, 'total': 0}}}, {3.6: {'batsman': 'Anjum Chopra', 'bowler': 'SEA Ruck', 'non_striker': 'M Raj', 'runs': {'batsman': 1, 'extras': 0, 'total': 1}}}, {4.1: {'batsman': 'Anjum Chopra', 'bowler': 'KL Pulford', 'non_striker': 'M Raj', 'runs': {'batsman': 0, 'extras': 0, 'total': 0}}}, {4.2: {'batsman': 'Anjum Chopra', 'bowler': 'KL Pulford', 'non_striker': 'M Raj', 'runs': {'batsman': 1, 'extras': 0, 'total': 1}}}, {4.3: {'batsman': 'M Raj', 'bowler': 'KL Pulford', 'non_striker': 'Anjum Chopra', 'runs': {'batsman': 0, 'extras': 0, 'total': 0}}}, {4.4: {'batsman': 'M Raj', 'bowler': 'KL Pulford', 'non_striker': 'Anjum Chopra', 'runs': {'batsman': 1, 'extras': 0, 'total': 1}}}, {4.5: {'batsman': 'Anjum Chopra', 'bowler': 'KL Pulford', 'non_striker': 'M Raj', 'runs': {'batsman': 0, 'extras': 0, 'total': 0}}}, {4.6: {'batsman': 'Anjum Chopra', 'bowler': 'KL Pulford', 'non_striker': 'M Raj', 'runs': {'batsman': 0, 'extras': 0, 'total': 0}}}, {5.1: {'batsman': 'M Raj', 'bowler': 'SEA Ruck', 'non_striker': 'Anjum Chopra', 'runs': {'batsman': 0, 'extras': 0, 'total': 0}}}, {5.2: {'batsman': 'M Raj', 'bowler': 'SEA Ruck', 'extras': {'wides': 1}, 'non_striker': 'Anjum Chopra', 'runs': {'batsman': 0, 'extras': 1, 'total': 1}}}, {5.3: {'batsman': 'M Raj', 'bowler': 'SEA Ruck', 'non_striker': 'Anjum Chopra', 'runs': {'batsman': 0, 'extras': 0, 'total': 0}}}, {5.4: {'batsman': 'M Raj', 'bowler': 'SEA Ruck', 'non_striker': 'Anjum Chopra', 'runs': {'batsman': 1, 'extras': 0, 'total': 1}}}, {5.5: {'batsman': 'Anjum Chopra', 'bowler': 'SEA Ruck', 'non_striker': 'M Raj', 'runs': {'batsman': 0, 'extras': 0, 'total': 0}}}, {5.6: {'batsman': 'Anjum Chopra', 'bowler': 'SEA Ruck', 'non_striker': 'M Raj', 'runs': {'batsman': 4, 'extras': 0, 'total': 4}}}, {5.7: {'batsman': 'Anjum Chopra', 'bowler': 'SEA Ruck', 'non_striker': 'M Raj', 'runs': {'batsman': 0, 'extras': 0, 'total': 0}}}, {6.1: {'batsman': 'M Raj', 'bowler': 'KL Pulford', 'non_striker': 'Anjum Chopra', 'runs': {'batsman': 0, 'extras': 0, 'total': 0}}}, {6.2: {'batsman': 'M Raj', 'bowler': 'KL Pulford', 'non_striker': 'Anjum Chopra', 'runs': {'batsman': 1, 'extras': 0, 'total': 1}}}, {6.3: {'batsman': 'Anjum Chopra', 'bowler': 'KL Pulford', 'non_striker': 'M Raj', 'runs': {'batsman': 1, 'extras': 0, 'total': 1}}}, {6.4: {'batsman': 'M Raj', 'bowler': 'KL Pulford', 'non_striker': 'Anjum Chopra', 'runs': {'batsman': 1, 'extras': 0, 'total': 1}}}, {6.5: {'batsman': 'Anjum Chopra', 'bowler': 'KL Pulford', 'non_striker': 'M Raj', 'runs': {'batsman': 2, 'extras': 0, 'total': 2}}}, {6.6: {'batsman': 'Anjum Chopra', 'bowler': 'KL Pulford', 'non_striker': 'M Raj', 'runs': {'batsman': 0, 'extras': 0, 'total': 0}, 'wicket': {'fielders': ['SW Bates'], 'kind': 'caught', 'player_out': 'Anjum Chopra'}}}, {7.1: {'batsman': 'H Kaur', 'bowler': 'SEA Ruck', 'non_striker': 'M Raj', 'runs': {'batsman': 0, 'extras': 0, 'total': 0}, 'wicket': {'kind': 'bowled', 'player_out': 'H Kaur'}}}, {7.2: {'batsman': 'R Malhotra', 'bowler': 'SEA Ruck', 'non_striker': 'M Raj', 'runs': {'batsman': 0, 'extras': 0, 'total': 0}}}, {7.3: {'batsman': 'R Malhotra', 'bowler': 'SEA Ruck', 'non_striker': 'M Raj', 'runs': {'batsman': 1, 'extras': 0, 'total': 1}}}, {7.4: {'batsman': 'M Raj', 'bowler': 'SEA Ruck', 'extras': {'legbyes': 1}, 'non_striker': 'R Malhotra', 'runs': {'batsman': 0, 'extras': 1, 'total': 1}}}, {7.5: {'batsman': 'R Malhotra', 'bowler': 'SEA Ruck', 'non_striker': 'M Raj', 'runs': {'batsman': 1, 'extras': 0, 'total': 1}}}, {7.6: {'batsman': 'M Raj', 'bowler': 'SEA Ruck', 'non_striker': 'R Malhotra', 'runs': {'batsman': 4, 'extras': 0, 'total': 4}}}, {8.1: {'batsman': 'R Malhotra', 'bowler': 'KL Pulford', 'non_striker': 'M Raj', 'runs': {'batsman': 0, 'extras': 0, 'total': 0}}}, {8.2: {'batsman': 'R Malhotra', 'bowler': 'KL Pulford', 'non_striker': 'M Raj', 'runs': {'batsman': 0, 'extras': 0, 'total': 0}}}, {8.3: {'batsman': 'R Malhotra', 'bowler': 'KL Pulford', 'non_striker': 'M Raj', 'runs': {'batsman': 1, 'extras': 0, 'total': 1}}}, {8.4: {'batsman': 'M Raj', 'bowler': 'KL Pulford', 'non_striker': 'R Malhotra', 'runs': {'batsman': 1, 'extras': 0, 'total': 1}}}, {8.5: {'batsman': 'R Malhotra', 'bowler': 'KL Pulford', 'non_striker': 'M Raj', 'runs': {'batsman': 1, 'extras': 0, 'total': 1}}}, {8.6: {'batsman': 'M Raj', 'bowler': 'KL Pulford', 'non_striker': 'R Malhotra', 'runs': {'batsman': 1, 'extras': 0, 'total': 1}}}, {9.1: {'batsman': 'M Raj', 'bowler': 'AE Satterthwaite', 'non_striker': 'R Malhotra', 'runs': {'batsman': 1, 'extras': 0, 'total': 1}}}, {9.2: {'batsman': 'R Malhotra', 'bowler': 'AE Satterthwaite', 'non_striker': 'M Raj', 'runs': {'batsman': 0, 'extras': 0, 'total': 0}}}, {9.3: {'batsman': 'R Malhotra', 'bowler': 'AE Satterthwaite', 'non_striker': 'M Raj', 'runs': {'batsman': 0, 'extras': 0, 'total': 0}}}, {9.4: {'batsman': 'R Malhotra', 'bowler': 'AE Satterthwaite', 'non_striker': 'M Raj', 'runs': {'batsman': 0, 'extras': 0, 'total': 0}, 'wicket': {'fielders': ['AE Satterthwaite', 'RH Priest'], 'kind': 'run out', 'player_out': 'R Malhotra'}}}, {9.5: {'batsman': 'A Sharma', 'bowler': 'AE Satterthwaite', 'non_striker': 'M Raj', 'runs': {'batsman': 0, 'extras': 0, 'total': 0}}}, {9.6: {'batsman': 'A Sharma', 'bowler': 'AE Satterthwaite', 'non_striker': 'M Raj', 'runs': {'batsman': 0, 'extras': 0, 'total': 0}}}, {10.1: {'batsman': 'M Raj', 'bowler': 'KL Pulford', 'non_striker': 'A Sharma', 'runs': {'batsman': 0, 'extras': 0, 'total': 0}}}, {10.2: {'batsman': 'M Raj', 'bowler': 'KL Pulford', 'non_striker': 'A Sharma', 'runs': {'batsman': 1, 'extras': 0, 'total': 1}}}, {10.3: {'batsman': 'A Sharma', 'bowler': 'KL Pulford', 'non_striker': 'M Raj', 'runs': {'batsman': 1, 'extras': 0, 'total': 1}}}, {10.4: {'batsman': 'M Raj', 'bowler': 'KL Pulford', 'non_striker': 'A Sharma', 'runs': {'batsman': 2, 'extras': 0, 'total': 2}}}, {10.5: {'batsman': 'M Raj', 'bowler': 'KL Pulford', 'non_striker': 'A Sharma', 'runs': {'batsman': 1, 'extras': 0, 'total': 1}}}, {10.6: {'batsman': 'A Sharma', 'bowler': 'KL Pulford', 'non_striker': 'M Raj', 'runs': {'batsman': 1, 'extras': 0, 'total': 1}}}, {11.1: {'batsman': 'A Sharma', 'bowler': 'AE Satterthwaite', 'non_striker': 'M Raj', 'runs': {'batsman': 1, 'extras': 0, 'total': 1}}}, {11.2: {'batsman': 'M Raj', 'bowler': 'AE Satterthwaite', 'non_striker': 'A Sharma', 'runs': {'batsman': 0, 'extras': 0, 'total': 0}, 'wicket': {'fielders': ['SJ McGlashan'], 'kind': 'caught', 'player_out': 'M Raj'}}}, {11.3: {'batsman': 'A Sharma', 'bowler': 'AE Satterthwaite', 'non_striker': 'S Naik', 'runs': {'batsman': 0, 'extras': 0, 'total': 0}}}, {11.4: {'batsman': 'A Sharma', 'bowler': 'AE Satterthwaite', 'non_striker': 'S Naik', 'runs': {'batsman': 0, 'extras': 0, 'total': 0}}}, {11.5: {'batsman': 'A Sharma', 'bowler': 'AE Satterthwaite', 'non_striker': 'S Naik', 'runs': {'batsman': 1, 'extras': 0, 'total': 1}}}, {11.6: {'batsman': 'S Naik', 'bowler': 'AE Satterthwaite', 'non_striker': 'A Sharma', 'runs': {'batsman': 1, 'extras': 0, 'total': 1}}}, {12.1: {'batsman': 'S Naik', 'bowler': 'SW Bates', 'non_striker': 'A Sharma', 'runs': {'batsman': 1, 'extras': 0, 'total': 1}}}, {12.2: {'batsman': 'A Sharma', 'bowler': 'SW Bates', 'extras': {'noballs': 1}, 'non_striker': 'S Naik', 'runs': {'batsman': 0, 'extras': 1, 'total': 1}}}, {12.3: {'batsman': 'A Sharma', 'bowler': 'SW Bates', 'non_striker': 'S Naik', 'runs': {'batsman': 0, 'extras': 0, 'total': 0}}}, {12.4: {'batsman': 'A Sharma', 'bowler': 'SW Bates', 'non_striker': 'S Naik', 'runs': {'batsman': 4, 'extras': 0, 'total': 4}}}, {12.5: {'batsman': 'A Sharma', 'bowler': 'SW Bates', 'non_striker': 'S Naik', 'runs': {'batsman': 0, 'extras': 0, 'total': 0}}}, {12.6: {'batsman': 'A Sharma', 'bowler': 'SW Bates', 'non_striker': 'S Naik', 'runs': {'batsman': 1, 'extras': 0, 'total': 1}}}, {12.7: {'batsman': 'S Naik', 'bowler': 'SW Bates', 'non_striker': 'A Sharma', 'runs': {'batsman': 0, 'extras': 0, 'total': 0}, 'wicket': {'fielders': ['SJ McGlashan'], 'kind': 'caught', 'player_out': 'S Naik'}}}, {13.1: {'batsman': 'A Sharma', 'bowler': 'AE Satterthwaite', 'non_striker': 'R Dhar', 'runs': {'batsman': 0, 'extras': 0, 'total': 0}}}, {13.2: {'batsman': 'A Sharma', 'bowler': 'AE Satterthwaite', 'non_striker': 'R Dhar', 'runs': {'batsman': 0, 'extras': 0, 'total': 0}}}, {13.3: {'batsman': 'A Sharma', 'bowler': 'AE Satterthwaite', 'non_striker': 'R Dhar', 'runs': {'batsman': 1, 'extras': 0, 'total': 1}}}, {13.4: {'batsman': 'R Dhar', 'bowler': 'AE Satterthwaite', 'non_striker': 'A Sharma', 'runs': {'batsman': 1, 'extras': 0, 'total': 1}}}, {13.5: {'batsman': 'A Sharma', 'bowler': 'AE Satterthwaite', 'non_striker': 'R Dhar', 'runs': {'batsman': 4, 'extras': 0, 'total': 4}}}, {13.6: {'batsman': 'A Sharma', 'bowler': 'AE Satterthwaite', 'non_striker': 'R Dhar', 'runs': {'batsman': 1, 'extras': 0, 'total': 1}}}, {14.1: {'batsman': 'A Sharma', 'bowler': 'SW Bates', 'non_striker': 'R Dhar', 'runs': {'batsman': 0, 'extras': 0, 'total': 0}}}, {14.2: {'batsman': 'A Sharma', 'bowler': 'SW Bates', 'non_striker': 'R Dhar', 'runs': {'batsman': 1, 'extras': 0, 'total': 1}}}, {14.3: {'batsman': 'R Dhar', 'bowler': 'SW Bates', 'non_striker': 'A Sharma', 'runs': {'batsman': 1, 'extras': 0, 'total': 1}}}, {14.4: {'batsman': 'A Sharma', 'bowler': 'SW Bates', 'non_striker': 'R Dhar', 'runs': {'batsman': 0, 'extras': 0, 'total': 0}}}, {14.5: {'batsman': 'A Sharma', 'bowler': 'SW Bates', 'non_striker': 'R Dhar', 'runs': {'batsman': 0, 'extras': 0, 'total': 0}}}, {14.6: {'batsman': 'A Sharma', 'bowler': 'SW Bates', 'non_striker': 'R Dhar', 'runs': {'batsman': 1, 'extras': 0, 'total': 1}}}, {15.1: {'batsman': 'A Sharma', 'bowler': 'AE Satterthwaite', 'non_striker': 'R Dhar', 'runs': {'batsman': 0, 'extras': 0, 'total': 0}}}, {15.2: {'batsman': 'A Sharma', 'bowler': 'AE Satterthwaite', 'non_striker': 'R Dhar', 'runs': {'batsman': 6, 'extras': 0, 'total': 6}}}, {15.3: {'batsman': 'A Sharma', 'bowler': 'AE Satterthwaite', 'non_striker': 'R Dhar', 'runs': {'batsman': 1, 'extras': 0, 'total': 1}}}, {15.4: {'batsman': 'R Dhar', 'bowler': 'AE Satterthwaite', 'non_striker': 'A Sharma', 'runs': {'batsman': 1, 'extras': 0, 'total': 1}}}, {15.5: {'batsman': 'A Sharma', 'bowler': 'AE Satterthwaite', 'non_striker': 'R Dhar', 'runs': {'batsman': 0, 'extras': 0, 'total': 0}, 'wicket': {'fielders': ['AL Watkins'], 'kind': 'caught', 'player_out': 'A Sharma'}}}, {15.6: {'batsman': 'R Dhar', 'bowler': 'AE Satterthwaite', 'non_striker': 'P Roy', 'runs': {'batsman': 1, 'extras': 0, 'total': 1}}}, {16.1: {'batsman': 'R Dhar', 'bowler': 'SFM Devine', 'non_striker': 'P Roy', 'runs': {'batsman': 0, 'extras': 0, 'total': 0}, 'wicket': {'fielders': ['SW Bates'], 'kind': 'caught', 'player_out': 'R Dhar'}}}, {16.2: {'batsman': 'P Roy', 'bowler': 'SFM Devine', 'non_striker': 'J Goswami', 'runs': {'batsman': 0, 'extras': 0, 'total': 0}}}, {16.3: {'batsman': 'P Roy', 'bowler': 'SFM Devine', 'non_striker': 'J Goswami', 'runs': {'batsman': 1, 'extras': 0, 'total': 1}}}, {16.4: {'batsman': 'J Goswami', 'bowler': 'SFM Devine', 'non_striker': 'P Roy', 'runs': {'batsman': 0, 'extras': 0, 'total': 0}}}, {16.5: {'batsman': 'J Goswami', 'bowler': 'SFM Devine', 'non_striker': 'P Roy', 'runs': {'batsman': 0, 'extras': 0, 'total': 0}}}, {16.6: {'batsman': 'J Goswami', 'bowler': 'SFM Devine', 'non_striker': 'P Roy', 'runs': {'batsman': 0, 'extras': 0, 'total': 0}}}, {17.1: {'batsman': 'P Roy', 'bowler': 'SW Bates', 'non_striker': 'J Goswami', 'runs': {'batsman': 1, 'extras': 0, 'total': 1}}}, {17.2: {'batsman': 'J Goswami', 'bowler': 'SW Bates', 'non_striker': 'P Roy', 'runs': {'batsman': 0, 'extras': 0, 'total': 0}}}, {17.3: {'batsman': 'J Goswami', 'bowler': 'SW Bates', 'non_striker': 'P Roy', 'runs': {'batsman': 2, 'extras': 0, 'total': 2}}}, {17.4: {'batsman': 'J Goswami', 'bowler': 'SW Bates', 'non_striker': 'P Roy', 'runs': {'batsman': 0, 'extras': 0, 'total': 0}}}, {17.5: {'batsman': 'J Goswami', 'bowler': 'SW Bates', 'non_striker': 'P Roy', 'runs': {'batsman': 1, 'extras': 0, 'total': 1}}}, {17.6: {'batsman': 'P Roy', 'bowler': 'SW Bates', 'non_striker': 'J Goswami', 'runs': {'batsman': 1, 'extras': 0, 'total': 1}}}, {18.1: {'batsman': 'P Roy', 'bowler': 'SFM Devine', 'non_striker': 'J Goswami', 'runs': {'batsman': 1, 'extras': 0, 'total': 1}}}, {18.2: {'batsman': 'J Goswami', 'bowler': 'SFM Devine', 'non_striker': 'P Roy', 'runs': {'batsman': 1, 'extras': 0, 'total': 1}}}, {18.3: {'batsman': 'P Roy', 'bowler': 'SFM Devine', 'non_striker': 'J Goswami', 'runs': {'batsman': 1, 'extras': 0, 'total': 1}}}, {18.4: {'batsman': 'J Goswami', 'bowler': 'SFM Devine', 'non_striker': 'P Roy', 'runs': {'batsman': 1, 'extras': 0, 'total': 1}}}, {18.5: {'batsman': 'P Roy', 'bowler': 'SFM Devine', 'non_striker': 'J Goswami', 'runs': {'batsman': 0, 'extras': 0, 'total': 0}, 'wicket': {'fielders': ['SJ McGlashan'], 'kind': 'run out', 'player_out': 'P Roy'}}}, {18.6: {'batsman': 'J Goswami', 'bowler': 'SFM Devine', 'non_striker': 'G Sultana', 'runs': {'batsman': 1, 'extras': 0, 'total': 1}}}, {19.1: {'batsman': 'J Goswami', 'bowler': 'SW Bates', 'non_striker': 'G Sultana', 'runs': {'batsman': 0, 'extras': 0, 'total': 0}}}, {19.2: {'batsman': 'J Goswami', 'bowler': 'SW Bates', 'non_striker': 'G Sultana', 'runs': {'batsman': 1, 'extras': 0, 'total': 1}}}, {19.3: {'batsman': 'G Sultana', 'bowler': 'SW Bates', 'non_striker': 'J Goswami', 'runs': {'batsman': 1, 'extras': 0, 'total': 1}}}, {19.4: {'batsman': 'J Goswami', 'bowler': 'SW Bates', 'non_striker': 'G Sultana', 'runs': {'batsman': 1, 'extras': 0, 'total': 1}}}, {19.5: {'batsman': 'G Sultana', 'bowler': 'SW Bates', 'non_striker': 'J Goswami', 'runs': {'batsman': 1, 'extras': 0, 'total': 1}}}, {19.6: {'batsman': 'J Goswami', 'bowler': 'SW Bates', 'non_striker': 'G Sultana', 'runs': {'batsman': 1, 'extras': 0, 'total': 1}}}]}}]}\n"
          ]
        }
      ]
    },
    {
      "cell_type": "code",
      "source": [
        "# Create the graph\n",
        "g = Graph()\n",
        "# Bind the namespaces to a prefix for more readable output\n",
        "g.bind(\"foaf\", FOAF)\n",
        "g.bind(\"xsd\", XSD)\n",
        "g.bind(\"skos\", SKOS)\n",
        "g.bind(\"cri\", CRI)"
      ],
      "metadata": {
        "id": "XwB7GbDGm-PL"
      },
      "id": "XwB7GbDGm-PL",
      "execution_count": 7,
      "outputs": []
    },
    {
      "cell_type": "code",
      "source": [
        "# Get the filename without the extension\n",
        "filename_without_extension = os.path.splitext(os.path.basename(matchUrl))[0]"
      ],
      "metadata": {
        "id": "b6WkE9sIr8ZV"
      },
      "id": "b6WkE9sIr8ZV",
      "execution_count": 8,
      "outputs": []
    },
    {
      "cell_type": "code",
      "source": [
        "# Create the node to add to the graph\n",
        "# Creating an instance of a Match\n",
        "# The node has the namespace + the match id(filename) as URI\n",
        "idM = \"match_\" + filename_without_extension\n",
        "Match = URIRef(CRI[idM])"
      ],
      "metadata": {
        "id": "BBH6twNRsPqm"
      },
      "id": "BBH6twNRsPqm",
      "execution_count": 9,
      "outputs": []
    },
    {
      "cell_type": "code",
      "source": [
        "# Add triples using store's add() method\n",
        "g.add((Match, RDF.type, CRI.Match))  # Add triple for Match type"
      ],
      "metadata": {
        "colab": {
          "base_uri": "https://localhost:8080/"
        },
        "id": "pYLBxX1TsVLs",
        "outputId": "5736cd87-fa15-4fd3-cf0e-4758bd7c82f3"
      },
      "id": "pYLBxX1TsVLs",
      "execution_count": 10,
      "outputs": [
        {
          "output_type": "execute_result",
          "data": {
            "text/plain": [
              "<Graph identifier=Nf1d8706e57fd4a1fa5ef447424fbb4ba (<class 'rdflib.graph.Graph'>)>"
            ]
          },
          "metadata": {},
          "execution_count": 10
        }
      ]
    },
    {
      "cell_type": "code",
      "source": [
        "# Process innings data\n",
        "innings_data = matchData.get('innings', [])\n",
        "for inning_index, inning in enumerate(innings_data, start=1):\n",
        "    inning_key = list(inning.keys())[0]  # Get key (\"1st innings\" or \"2nd innings\")\n",
        "    inning_info = inning[inning_key]\n",
        "\n",
        "    # Create Inning and Team instances\n",
        "    idInning = f\"innings_{filename_without_extension}_{inning_index}\"\n",
        "    Inning = URIRef(CRI[idInning])\n",
        "    BattingTeam = URIRef(CRI[f\"Team_{inning_info['team'].replace(' ', '_')}\"])\n",
        "\n",
        "    # Add triples for the inning\n",
        "\n",
        "    g.add((Inning, RDF.type, CRI.Innings))\n",
        "    g.add((Inning, CRI.hasBattingTeam, BattingTeam))\n",
        "    g.add((Inning, CRI.totalBallsDelivery, Literal(len(inning_info.get('deliveries', [])), datatype=XSD.integer)))\n",
        "\n",
        "    # Link innings to the match\n",
        "    if inning_index == 1:\n",
        "        g.add((Match, CRI.hasFirstInnings, Inning))\n",
        "        g.add((Inning, CRI.isFirstInningsOf, Match))\n",
        "    elif inning_index == 2:\n",
        "        g.add((Match, CRI.hasSecondInnings, Inning))\n",
        "        g.add((Inning, CRI.isSecondInningsOf, Match))\n",
        "\n",
        "# Serialize RDF graph to a Turtle file\n",
        "output_file = os.path.join(savePath, f\"{filename_without_extension}_innings.ttl\")\n",
        "os.makedirs(os.path.dirname(output_file), exist_ok=True)\n",
        "g.serialize(destination=output_file, format=\"turtle\")\n",
        "\n",
        "print(f\"RDF triples serialized to {output_file}\")"
      ],
      "metadata": {
        "colab": {
          "base_uri": "https://localhost:8080/"
        },
        "id": "UOAjxPNvsi7G",
        "outputId": "cda28aaf-2eab-42fe-90bc-d4f0c820c476"
      },
      "id": "UOAjxPNvsi7G",
      "execution_count": 11,
      "outputs": [
        {
          "output_type": "stream",
          "name": "stdout",
          "text": [
            "RDF triples serialized to /content/Innings_Serialization/355988_innings.ttl\n"
          ]
        }
      ]
    }
  ],
  "metadata": {
    "kernelspec": {
      "display_name": "Python 3 (ipykernel)",
      "language": "python",
      "name": "python3"
    },
    "language_info": {
      "codemirror_mode": {
        "name": "ipython",
        "version": 3
      },
      "file_extension": ".py",
      "mimetype": "text/x-python",
      "name": "python",
      "nbconvert_exporter": "python",
      "pygments_lexer": "ipython3",
      "version": "3.11.7"
    },
    "colab": {
      "provenance": []
    }
  },
  "nbformat": 4,
  "nbformat_minor": 5
}