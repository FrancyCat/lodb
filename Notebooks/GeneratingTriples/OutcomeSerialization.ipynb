{
  "nbformat": 4,
  "nbformat_minor": 0,
  "metadata": {
    "colab": {
      "provenance": []
    },
    "kernelspec": {
      "name": "python3",
      "display_name": "Python 3"
    },
    "language_info": {
      "name": "python"
    }
  },
  "cells": [
    {
      "cell_type": "markdown",
      "source": [
        "# Populating cricket ontology"
      ],
      "metadata": {
        "id": "HlBLY62U-3r0"
      }
    },
    {
      "cell_type": "code",
      "execution_count": 1,
      "metadata": {
        "colab": {
          "base_uri": "https://localhost:8080/"
        },
        "id": "8sqrjlrU-yMQ",
        "outputId": "99abccd3-9958-4bbc-92a3-1f9e87852a88"
      },
      "outputs": [
        {
          "output_type": "stream",
          "name": "stdout",
          "text": [
            "Collecting rdflib\n",
            "  Downloading rdflib-7.1.1-py3-none-any.whl.metadata (11 kB)\n",
            "Collecting isodate<1.0.0,>=0.7.2 (from rdflib)\n",
            "  Downloading isodate-0.7.2-py3-none-any.whl.metadata (11 kB)\n",
            "Requirement already satisfied: pyparsing<4,>=2.1.0 in /usr/local/lib/python3.10/dist-packages (from rdflib) (3.2.0)\n",
            "Downloading rdflib-7.1.1-py3-none-any.whl (562 kB)\n",
            "\u001b[2K   \u001b[90m━━━━━━━━━━━━━━━━━━━━━━━━━━━━━━━━━━━━━━━━\u001b[0m \u001b[32m562.4/562.4 kB\u001b[0m \u001b[31m16.0 MB/s\u001b[0m eta \u001b[36m0:00:00\u001b[0m\n",
            "\u001b[?25hDownloading isodate-0.7.2-py3-none-any.whl (22 kB)\n",
            "Installing collected packages: isodate, rdflib\n",
            "Successfully installed isodate-0.7.2 rdflib-7.1.1\n",
            "Requirement already satisfied: pyyaml in /usr/local/lib/python3.10/dist-packages (6.0.2)\n"
          ]
        }
      ],
      "source": [
        "!pip install rdflib\n",
        "!pip install pyyaml"
      ]
    },
    {
      "cell_type": "code",
      "execution_count": 2,
      "metadata": {
        "id": "DVAStQ_rnCpb"
      },
      "outputs": [],
      "source": [
        "# required libraries\n",
        "import pandas as pd\n",
        "import yaml\n",
        "import os\n",
        "from pathlib import Path\n",
        "# Load the required libraries\n",
        "from rdflib import Graph, Literal, RDF, URIRef, Namespace\n",
        "# rdflib knows about some namespaces, like FOAF\n",
        "from rdflib.namespace import FOAF, XSD, SKOS\n",
        "# CHECK DATE\n",
        "import datetime"
      ]
    },
    {
      "cell_type": "code",
      "execution_count": 3,
      "metadata": {
        "id": "b900tm6unCpe"
      },
      "outputs": [],
      "source": [
        "# saving folder\n",
        "path = str(os.getcwd())\n",
        "savePath =  path + '/data/rdf/'"
      ]
    },
    {
      "cell_type": "code",
      "execution_count": 4,
      "metadata": {
        "id": "Eo_uDix1nCpf"
      },
      "outputs": [],
      "source": [
        "# Construct the cricket ontology not known by RDFlib\n",
        "CRI = Namespace(\"https://www.dei.unipd.it/lodb/cri/\")"
      ]
    },
    {
      "cell_type": "code",
      "execution_count": 5,
      "metadata": {
        "id": "s_8k_cugnCpg"
      },
      "outputs": [],
      "source": [
        "#create the graph\n",
        "g = Graph()\n",
        "\n",
        "# Bind the namespaces to a prefix for more readable output\n",
        "g.bind(\"foaf\", FOAF)\n",
        "g.bind(\"xsd\", XSD)\n",
        "g.bind(\"skos\", SKOS)\n",
        "g.bind(\"cri\", CRI)"
      ]
    },
    {
      "cell_type": "code",
      "source": [
        "# path joining version for other paths\n",
        "DIR = path + '/data/matches/'\n",
        "print(len([name for name in os.listdir(DIR) if os.path.isfile(os.path.join(DIR, name))]))"
      ],
      "metadata": {
        "colab": {
          "base_uri": "https://localhost:8080/"
        },
        "id": "lwrk0ZHZYn0v",
        "outputId": "a5da60c2-2355-4695-cc68-bef8d3802915"
      },
      "execution_count": 6,
      "outputs": [
        {
          "output_type": "stream",
          "name": "stdout",
          "text": [
            "1232\n"
          ]
        }
      ]
    },
    {
      "cell_type": "markdown",
      "source": [
        "## Outcome"
      ],
      "metadata": {
        "id": "Dis6HxfxCvHU"
      }
    },
    {
      "cell_type": "code",
      "source": [
        "%%time\n",
        "#measure execution time\n",
        "\n",
        "# assign directory\n",
        "matchDir = path + '/data/matches/'\n",
        "\n",
        "# iterate over files in that directory\n",
        "for filename in os.listdir(matchDir):\n",
        "  # Load the YAML files in memory\n",
        "  with open(os.path.join(matchDir, filename), 'r') as file:\n",
        "    matchData = yaml.safe_load(file)\n",
        "    #print(matchData['info']['outcome'])\n",
        "    # Get the filename without the extension\n",
        "    filename_without_extension = os.path.splitext(os.path.basename(filename))[0]\n",
        "\n",
        "    # Create the node to add to the Graph\n",
        "    # Creating an instance of a Match\n",
        "    # the node has the namespace + the match id(filename) as URI\n",
        "    idM = \"match\"+filename_without_extension\n",
        "    Match = URIRef(CRI[idM])\n",
        "    # Add triples using store's add() method.\n",
        "    g.add((Match, RDF.type, CRI.Match))\n",
        "\n",
        "    # Creating an instance of an Outcome\n",
        "    # the node has the namespace + the outcome id(filename) as URI\n",
        "    idO = \"outcome\"+filename_without_extension\n",
        "    Outcome = URIRef(CRI[idO])\n",
        "    # Add triples using store's add() method.\n",
        "    #g.add((Outcome, RDF.type, CRI.Outcome))\n",
        "    g.add((Match, CRI['hasOutcome'], Outcome))\n",
        "\n",
        "    # Creating 2 instances of a Team\n",
        "    # the nodes have the namespace + the team name as URI\n",
        "    \"\"\"idT0 = \"team\"+(matchData['info']['teams'][0]).replace(\" \",\"\")\n",
        "    idT1 = \"team\"+(matchData['info']['teams'][1]).replace(\" \",\"\")\n",
        "    Team0 = URIRef(CRI[idT0])\n",
        "    Team1 = URIRef(CRI[idT1])\n",
        "    # Add triples using store's add() method.\n",
        "    g.add((Team0, RDF.type, CRI.Team))\n",
        "    g.add((Team1, RDF.type, CRI.Team))\"\"\"\n",
        "\n",
        "    # Checking if match has been won or not\n",
        "    if \"by\" in matchData['info']['outcome']:\n",
        "        # Creating an instance of a Win\n",
        "        # the node has the namespace + the win id(filename) as URI\n",
        "        #idW = \"win\"+filename_without_extension\n",
        "        #Win = URIRef(CRI[idW])\n",
        "        # Add triples stating that is a win\n",
        "        #g.add((Win, RDF.type, CRI.Win))\n",
        "        g.add((Outcome, CRI['outcomeDescription'], Literal(\"win\", datatype=XSD.string)))\n",
        "        # Adding triple that states which Team is the winner\n",
        "        idWinner = \"team\"+(matchData['info']['outcome']['winner']).replace(\" \",\"\")\n",
        "        Winner = URIRef(CRI[idWinner])\n",
        "        g.add((Outcome, CRI['wonBy'], Winner))\n",
        "\n",
        "        if \"runs\" in matchData['info']['outcome']['by']:\n",
        "          # Creating an instance of a WinByRuns\n",
        "          # the node has the namespace + the win id(filename) as URI\n",
        "          #idRuns = \"winByRuns\"+filename_without_extension\n",
        "          #WinByRuns = URIRef(CRI[idRuns])\n",
        "          # Add triples using store's add() method.\n",
        "          #g.add((WinByRuns, RDF.type, CRI.WinByRuns))\n",
        "          g.add((Outcome, RDF.type, CRI.WinByRuns))\n",
        "          #g.add((Outcome, CRI['wonBy'], Winner))\n",
        "          g.add((Outcome, CRI['runs'], Literal(matchData['info']['outcome']['by']['runs'], datatype=XSD.integer)))\n",
        "          #g.add((Match, CRI['hasOutcome'], WinByRuns))\n",
        "        elif \"wickets\" in matchData['info']['outcome']['by']:\n",
        "          # Creating an instance of a WinByRuns\n",
        "          # the node has the namespace + the win id(filename) as URI\n",
        "          #idWickets = \"winByWickets\"+filename_without_extension\n",
        "          #WinByWickets = URIRef(CRI[idWickets])\n",
        "          # Add triples using store's add() method.\n",
        "          g.add((Outcome, RDF.type, CRI.WinByWickets))\n",
        "          g.add((Outcome, CRI['wickets'], Literal(matchData['info']['outcome']['by']['wickets'], datatype=XSD.integer)))\n",
        "          #g.add((Match, CRI['hasOutcome'], WinByWickets))\n",
        "\n",
        "    elif \"result\" in matchData['info']['outcome']:\n",
        "      if matchData['info']['outcome']['result'] == \"tie\":\n",
        "        # Creating an instance of a Tie\n",
        "        # the node has the namespace + the Tie id(filename) as URI\n",
        "        #idTie = \"tie\"+filename_without_extension\n",
        "        #Tie = URIRef(CRI[idTie])\n",
        "        #g.add((Tie, RDF.type, CRI.Tie))\n",
        "        g.add((Outcome, RDF.type, CRI.Tie))\n",
        "        #g.add((Match, CRI['hasOutcome'], Tie))\n",
        "        g.add((Outcome, CRI['outcomeDescription'], Literal(matchData['info']['outcome']['result'], datatype=XSD.string)))\n",
        "        if \"eliminator\" in matchData['info']['outcome']:\n",
        "          idEliminator = \"team\"+(matchData['info']['outcome']['eliminator']).replace(\" \",\"\")\n",
        "          Eliminator = URIRef(CRI[idEliminator])\n",
        "          #g.add((Tie, CRI['hasTieBreakWinner'], Eliminator))\n",
        "          g.add((Outcome, CRI['hasTieBreakWinner'], Eliminator))\n",
        "        elif \"bowl_out\" in matchData['info']['outcome']:\n",
        "          idBowlOut = \"team\"+(matchData['info']['outcome']['bowl_out']).replace(\" \",\"\")\n",
        "          BowlOut = URIRef(CRI[idBowlOut])\n",
        "          #g.add((Tie, CRI['hasTieBreakWinner'], BowlOut))\n",
        "          g.add((Outcome, CRI['hasTieBreakWinner'], BowlOut))\n",
        "      elif matchData['info']['outcome']['result'] == \"no result\":\n",
        "        g.add((Match, CRI['hasOutcome'], Outcome))\n",
        "        g.add((Outcome, CRI['outcomeDescription'], Literal(matchData['info']['outcome']['result'], datatype=XSD.string)))\n"
      ],
      "metadata": {
        "id": "M87ABrz66dLw",
        "colab": {
          "base_uri": "https://localhost:8080/"
        },
        "outputId": "d4e3fc80-59e6-4cf5-9f11-8a229b7b0591"
      },
      "execution_count": 7,
      "outputs": [
        {
          "output_type": "stream",
          "name": "stdout",
          "text": [
            "CPU times: user 6min 4s, sys: 1.28 s, total: 6min 5s\n",
            "Wall time: 6min 15s\n"
          ]
        }
      ]
    },
    {
      "cell_type": "code",
      "execution_count": 8,
      "metadata": {
        "colab": {
          "base_uri": "https://localhost:8080/"
        },
        "id": "W2p5Nl8tnCph",
        "outputId": "a27d993d-646b-4a55-c532-cd801744701a"
      },
      "outputs": [
        {
          "output_type": "stream",
          "name": "stdout",
          "text": [
            "--- saving serialization ---\n",
            "CPU times: user 450 ms, sys: 994 µs, total: 451 ms\n",
            "Wall time: 456 ms\n"
          ]
        }
      ],
      "source": [
        "%%time\n",
        "# print all the data in the Turtle format\n",
        "print(\"--- saving serialization ---\")\n",
        "# may have to change to match\n",
        "with open(savePath + 'newoutcomes.ttl', 'w') as file:\n",
        "    file.write(g.serialize(format='turtle'))\n",
        "    #.decode(\"utf-8\")\n"
      ]
    }
  ]
}