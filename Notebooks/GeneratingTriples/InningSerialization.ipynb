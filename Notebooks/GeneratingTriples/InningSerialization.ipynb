{
  "cells": [
    {
      "cell_type": "code",
      "source": [
        "!pip install rdflib\n",
        "!pip install pyyaml"
      ],
      "metadata": {
        "colab": {
          "base_uri": "https://localhost:8080/"
        },
        "id": "h_liTFPQmFcV",
        "outputId": "d978cf5a-f357-436d-927c-b41bcce92cfb"
      },
      "id": "h_liTFPQmFcV",
      "execution_count": 1,
      "outputs": [
        {
          "output_type": "stream",
          "name": "stdout",
          "text": [
            "Requirement already satisfied: rdflib in /usr/local/lib/python3.10/dist-packages (7.1.1)\n",
            "Requirement already satisfied: isodate<1.0.0,>=0.7.2 in /usr/local/lib/python3.10/dist-packages (from rdflib) (0.7.2)\n",
            "Requirement already satisfied: pyparsing<4,>=2.1.0 in /usr/local/lib/python3.10/dist-packages (from rdflib) (3.2.0)\n",
            "Requirement already satisfied: pyyaml in /usr/local/lib/python3.10/dist-packages (6.0.2)\n"
          ]
        }
      ]
    },
    {
      "cell_type": "code",
      "source": [
        "import os\n",
        "import yaml\n",
        "from rdflib import Graph, Namespace, URIRef, Literal\n",
        "from rdflib.namespace import RDF, XSD, FOAF, SKOS"
      ],
      "metadata": {
        "id": "8uXZwa-PmSfZ"
      },
      "id": "8uXZwa-PmSfZ",
      "execution_count": 2,
      "outputs": []
    },
    {
      "cell_type": "code",
      "source": [
        "# Parameters and URLs\n",
        "path = str(os.getcwd())\n",
        "matchUrl = '/content/1043989.yaml'  # Update path to match your setup\n",
        "savePath = '/content/Innings_Serialization'  # Path to save RDF files"
      ],
      "metadata": {
        "id": "aHzpn_dDmlzX"
      },
      "id": "aHzpn_dDmlzX",
      "execution_count": 3,
      "outputs": []
    },
    {
      "cell_type": "code",
      "source": [
        "# Define namespaces\n",
        "CRI = Namespace(\"https://www.dei.unipd.it/lodb/cri/\")"
      ],
      "metadata": {
        "id": "76by4Stfmq6O"
      },
      "id": "76by4Stfmq6O",
      "execution_count": 4,
      "outputs": []
    },
    {
      "cell_type": "code",
      "source": [
        "# Load the YAML file in memory\n",
        "with open(matchUrl, 'r') as file:\n",
        "    matchData = yaml.safe_load(file)"
      ],
      "metadata": {
        "id": "Em5LDvsUmwj3"
      },
      "id": "Em5LDvsUmwj3",
      "execution_count": 5,
      "outputs": []
    },
    {
      "cell_type": "code",
      "source": [
        "# Check the loaded match data (debugging step)\n",
        "print(matchData)"
      ],
      "metadata": {
        "colab": {
          "base_uri": "https://localhost:8080/"
        },
        "id": "wmgOeJ_Vm2ri",
        "outputId": "d6137be4-5bf0-4c66-8f52-88a7baa60ff4"
      },
      "id": "wmgOeJ_Vm2ri",
      "execution_count": 6,
      "outputs": [
        {
          "output_type": "stream",
          "name": "stdout",
          "text": [
            "{'meta': {'data_version': 0.91, 'created': datetime.date(2017, 2, 17), 'revision': 1}, 'info': {'balls_per_over': 6, 'dates': [datetime.date(2017, 2, 17)], 'gender': 'female', 'match_type': 'T20', 'outcome': {'by': {'runs': 40}, 'winner': 'Australia'}, 'overs': 20, 'player_of_match': ['EJ Villani'], 'players': {'Australia': ['MM Lanning', 'BL Mooney', 'A Gardner', 'EJ Villani', 'AJ Blackwell', 'AJ Healy', 'JL Jonassen', 'M Strano', 'ML Schutt', 'A Wellington', 'KM Beams'], 'New Zealand': ['SW Bates', 'RH Priest', 'AM Peterson', 'AE Satterthwaite', 'KJ Martin', 'EM Bermingham', 'KT Perkins', 'EC Perry', 'HR Huddleston', 'LMM Tahuhu', 'LM Kasperek']}, 'registry': {'people': {'A Gardner': 'bc969efb', 'A Wellington': '9b3bcca4', 'AE Satterthwaite': '72b7ed1e', 'AJ Barrow': 'a67aa9df', 'AJ Blackwell': 'b9164a9b', 'AJ Healy': '321644de', 'AM Peterson': 'ae2c396f', 'BL Mooney': '52d1dbc8', 'EC Perry': '0de3060f', 'EJ Villani': 'cde96d97', 'EM Bermingham': '180240d4', 'GA Abood': 'a4af5528', 'HR Huddleston': '8d6b36e3', 'JD Ward': '511299c1', 'JL Jonassen': '0475a86b', 'KJ Martin': 'cf75a839', 'KM Beams': 'fa8f9dc3', 'KT Perkins': '78ad3258', 'LM Kasperek': '9b73d523', 'LMM Tahuhu': '60471339', 'M Strano': 'f57d5dbb', 'ML Schutt': '17608a6f', 'MM Lanning': '27e003ce', 'RH Priest': 'e6f0408a', 'SAJ Craig': '689f2eed', 'SR Bernard': '800187dc', 'SW Bates': '89bbc67a'}}, 'teams': ['Australia', 'New Zealand'], 'toss': {'decision': 'field', 'winner': 'New Zealand'}, 'umpires': ['GA Abood', 'SAJ Craig'], 'venue': 'Melbourne Cricket Ground'}, 'innings': [{'1st innings': {'team': 'Australia', 'deliveries': [{0.1: {'batsman': 'MM Lanning', 'bowler': 'LMM Tahuhu', 'non_striker': 'BL Mooney', 'runs': {'batsman': 1, 'extras': 0, 'total': 1}}}, {0.2: {'batsman': 'BL Mooney', 'bowler': 'LMM Tahuhu', 'non_striker': 'MM Lanning', 'runs': {'batsman': 0, 'extras': 0, 'total': 0}}}, {0.3: {'batsman': 'BL Mooney', 'bowler': 'LMM Tahuhu', 'non_striker': 'MM Lanning', 'runs': {'batsman': 0, 'extras': 0, 'total': 0}}}, {0.4: {'batsman': 'BL Mooney', 'bowler': 'LMM Tahuhu', 'non_striker': 'MM Lanning', 'runs': {'batsman': 1, 'extras': 0, 'total': 1}}}, {0.5: {'batsman': 'MM Lanning', 'bowler': 'LMM Tahuhu', 'non_striker': 'BL Mooney', 'runs': {'batsman': 0, 'extras': 0, 'total': 0}}}, {0.6: {'batsman': 'MM Lanning', 'bowler': 'LMM Tahuhu', 'non_striker': 'BL Mooney', 'runs': {'batsman': 1, 'extras': 0, 'total': 1}}}, {1.1: {'batsman': 'MM Lanning', 'bowler': 'HR Huddleston', 'non_striker': 'BL Mooney', 'runs': {'batsman': 0, 'extras': 0, 'total': 0}}}, {1.2: {'batsman': 'MM Lanning', 'bowler': 'HR Huddleston', 'non_striker': 'BL Mooney', 'runs': {'batsman': 1, 'extras': 0, 'total': 1}}}, {1.3: {'batsman': 'BL Mooney', 'bowler': 'HR Huddleston', 'extras': {'noballs': 1}, 'non_striker': 'MM Lanning', 'runs': {'batsman': 0, 'extras': 1, 'total': 1}}}, {1.4: {'batsman': 'BL Mooney', 'bowler': 'HR Huddleston', 'extras': {'byes': 4}, 'non_striker': 'MM Lanning', 'runs': {'batsman': 0, 'extras': 4, 'total': 4}}}, {1.5: {'batsman': 'BL Mooney', 'bowler': 'HR Huddleston', 'non_striker': 'MM Lanning', 'runs': {'batsman': 0, 'extras': 0, 'total': 0}}}, {1.6: {'batsman': 'BL Mooney', 'bowler': 'HR Huddleston', 'non_striker': 'MM Lanning', 'runs': {'batsman': 0, 'extras': 0, 'total': 0}}}, {1.7: {'batsman': 'BL Mooney', 'bowler': 'HR Huddleston', 'non_striker': 'MM Lanning', 'runs': {'batsman': 0, 'extras': 0, 'total': 0}}}, {2.1: {'batsman': 'MM Lanning', 'bowler': 'LMM Tahuhu', 'non_striker': 'BL Mooney', 'runs': {'batsman': 0, 'extras': 0, 'total': 0}}}, {2.2: {'batsman': 'MM Lanning', 'bowler': 'LMM Tahuhu', 'non_striker': 'BL Mooney', 'runs': {'batsman': 0, 'extras': 0, 'total': 0}}}, {2.3: {'batsman': 'MM Lanning', 'bowler': 'LMM Tahuhu', 'non_striker': 'BL Mooney', 'runs': {'batsman': 1, 'extras': 0, 'total': 1}}}, {2.4: {'batsman': 'BL Mooney', 'bowler': 'LMM Tahuhu', 'non_striker': 'MM Lanning', 'runs': {'batsman': 0, 'extras': 0, 'total': 0}}}, {2.5: {'batsman': 'BL Mooney', 'bowler': 'LMM Tahuhu', 'non_striker': 'MM Lanning', 'runs': {'batsman': 0, 'extras': 0, 'total': 0}}}, {2.6: {'batsman': 'BL Mooney', 'bowler': 'LMM Tahuhu', 'non_striker': 'MM Lanning', 'runs': {'batsman': 0, 'extras': 0, 'total': 0}, 'wicket': {'fielders': ['RH Priest'], 'kind': 'caught', 'player_out': 'BL Mooney'}}}, {3.1: {'batsman': 'MM Lanning', 'bowler': 'HR Huddleston', 'extras': {'wides': 1}, 'non_striker': 'A Gardner', 'runs': {'batsman': 0, 'extras': 1, 'total': 1}}}, {3.2: {'batsman': 'MM Lanning', 'bowler': 'HR Huddleston', 'non_striker': 'A Gardner', 'runs': {'batsman': 4, 'extras': 0, 'total': 4}}}, {3.3: {'batsman': 'MM Lanning', 'bowler': 'HR Huddleston', 'non_striker': 'A Gardner', 'runs': {'batsman': 4, 'extras': 0, 'total': 4}}}, {3.4: {'batsman': 'MM Lanning', 'bowler': 'HR Huddleston', 'non_striker': 'A Gardner', 'runs': {'batsman': 0, 'extras': 0, 'total': 0}}}, {3.5: {'batsman': 'MM Lanning', 'bowler': 'HR Huddleston', 'non_striker': 'A Gardner', 'runs': {'batsman': 0, 'extras': 0, 'total': 0}}}, {3.6: {'batsman': 'MM Lanning', 'bowler': 'HR Huddleston', 'non_striker': 'A Gardner', 'runs': {'batsman': 1, 'extras': 0, 'total': 1}}}, {3.7: {'batsman': 'A Gardner', 'bowler': 'HR Huddleston', 'non_striker': 'MM Lanning', 'runs': {'batsman': 0, 'extras': 0, 'total': 0}, 'wicket': {'fielders': ['LMM Tahuhu'], 'kind': 'run out', 'player_out': 'A Gardner'}}}, {4.1: {'batsman': 'MM Lanning', 'bowler': 'LMM Tahuhu', 'non_striker': 'EJ Villani', 'runs': {'batsman': 4, 'extras': 0, 'total': 4}}}, {4.2: {'batsman': 'MM Lanning', 'bowler': 'LMM Tahuhu', 'non_striker': 'EJ Villani', 'runs': {'batsman': 1, 'extras': 0, 'total': 1}}}, {4.3: {'batsman': 'EJ Villani', 'bowler': 'LMM Tahuhu', 'non_striker': 'MM Lanning', 'runs': {'batsman': 1, 'extras': 0, 'total': 1}}}, {4.4: {'batsman': 'MM Lanning', 'bowler': 'LMM Tahuhu', 'non_striker': 'EJ Villani', 'runs': {'batsman': 0, 'extras': 0, 'total': 0}}}, {4.5: {'batsman': 'MM Lanning', 'bowler': 'LMM Tahuhu', 'non_striker': 'EJ Villani', 'runs': {'batsman': 0, 'extras': 0, 'total': 0}}}, {4.6: {'batsman': 'MM Lanning', 'bowler': 'LMM Tahuhu', 'non_striker': 'EJ Villani', 'runs': {'batsman': 1, 'extras': 0, 'total': 1}}}, {5.1: {'batsman': 'MM Lanning', 'bowler': 'EM Bermingham', 'non_striker': 'EJ Villani', 'runs': {'batsman': 0, 'extras': 0, 'total': 0}}}, {5.2: {'batsman': 'MM Lanning', 'bowler': 'EM Bermingham', 'non_striker': 'EJ Villani', 'runs': {'batsman': 0, 'extras': 0, 'total': 0}}}, {5.3: {'batsman': 'MM Lanning', 'bowler': 'EM Bermingham', 'non_striker': 'EJ Villani', 'runs': {'batsman': 1, 'extras': 0, 'total': 1}}}, {5.4: {'batsman': 'EJ Villani', 'bowler': 'EM Bermingham', 'non_striker': 'MM Lanning', 'runs': {'batsman': 2, 'extras': 0, 'total': 2}}}, {5.5: {'batsman': 'EJ Villani', 'bowler': 'EM Bermingham', 'non_striker': 'MM Lanning', 'runs': {'batsman': 1, 'extras': 0, 'total': 1}}}, {5.6: {'batsman': 'MM Lanning', 'bowler': 'EM Bermingham', 'non_striker': 'EJ Villani', 'runs': {'batsman': 1, 'extras': 0, 'total': 1}}}, {6.1: {'batsman': 'MM Lanning', 'bowler': 'SW Bates', 'non_striker': 'EJ Villani', 'runs': {'batsman': 1, 'extras': 0, 'total': 1}}}, {6.2: {'batsman': 'EJ Villani', 'bowler': 'SW Bates', 'non_striker': 'MM Lanning', 'runs': {'batsman': 1, 'extras': 0, 'total': 1}}}, {6.3: {'batsman': 'MM Lanning', 'bowler': 'SW Bates', 'non_striker': 'EJ Villani', 'runs': {'batsman': 0, 'extras': 0, 'total': 0}}}, {6.4: {'batsman': 'MM Lanning', 'bowler': 'SW Bates', 'non_striker': 'EJ Villani', 'runs': {'batsman': 0, 'extras': 0, 'total': 0}}}, {6.5: {'batsman': 'MM Lanning', 'bowler': 'SW Bates', 'non_striker': 'EJ Villani', 'runs': {'batsman': 2, 'extras': 0, 'total': 2}}}, {6.6: {'batsman': 'MM Lanning', 'bowler': 'SW Bates', 'non_striker': 'EJ Villani', 'runs': {'batsman': 4, 'extras': 0, 'total': 4}}}, {7.1: {'batsman': 'EJ Villani', 'bowler': 'EM Bermingham', 'non_striker': 'MM Lanning', 'runs': {'batsman': 0, 'extras': 0, 'total': 0}}}, {7.2: {'batsman': 'EJ Villani', 'bowler': 'EM Bermingham', 'non_striker': 'MM Lanning', 'runs': {'batsman': 2, 'extras': 0, 'total': 2}}}, {7.3: {'batsman': 'EJ Villani', 'bowler': 'EM Bermingham', 'non_striker': 'MM Lanning', 'runs': {'batsman': 2, 'extras': 0, 'total': 2}}}, {7.4: {'batsman': 'EJ Villani', 'bowler': 'EM Bermingham', 'non_striker': 'MM Lanning', 'runs': {'batsman': 0, 'extras': 0, 'total': 0}}}, {7.5: {'batsman': 'EJ Villani', 'bowler': 'EM Bermingham', 'non_striker': 'MM Lanning', 'runs': {'batsman': 1, 'extras': 0, 'total': 1}}}, {7.6: {'batsman': 'MM Lanning', 'bowler': 'EM Bermingham', 'non_striker': 'EJ Villani', 'runs': {'batsman': 0, 'extras': 0, 'total': 0}}}, {8.1: {'batsman': 'EJ Villani', 'bowler': 'AE Satterthwaite', 'non_striker': 'MM Lanning', 'runs': {'batsman': 1, 'extras': 0, 'total': 1}}}, {8.2: {'batsman': 'MM Lanning', 'bowler': 'AE Satterthwaite', 'non_striker': 'EJ Villani', 'runs': {'batsman': 1, 'extras': 0, 'total': 1}}}, {8.3: {'batsman': 'EJ Villani', 'bowler': 'AE Satterthwaite', 'non_striker': 'MM Lanning', 'runs': {'batsman': 2, 'extras': 0, 'total': 2}}}, {8.4: {'batsman': 'EJ Villani', 'bowler': 'AE Satterthwaite', 'non_striker': 'MM Lanning', 'runs': {'batsman': 1, 'extras': 0, 'total': 1}}}, {8.5: {'batsman': 'MM Lanning', 'bowler': 'AE Satterthwaite', 'non_striker': 'EJ Villani', 'runs': {'batsman': 0, 'extras': 0, 'total': 0}}}, {8.6: {'batsman': 'MM Lanning', 'bowler': 'AE Satterthwaite', 'non_striker': 'EJ Villani', 'runs': {'batsman': 4, 'extras': 0, 'total': 4}}}, {9.1: {'batsman': 'EJ Villani', 'bowler': 'EM Bermingham', 'non_striker': 'MM Lanning', 'runs': {'batsman': 6, 'extras': 0, 'total': 6}}}, {9.2: {'batsman': 'EJ Villani', 'bowler': 'EM Bermingham', 'non_striker': 'MM Lanning', 'runs': {'batsman': 4, 'extras': 0, 'total': 4}}}, {9.3: {'batsman': 'EJ Villani', 'bowler': 'EM Bermingham', 'non_striker': 'MM Lanning', 'runs': {'batsman': 1, 'extras': 0, 'total': 1}}}, {9.4: {'batsman': 'MM Lanning', 'bowler': 'EM Bermingham', 'non_striker': 'EJ Villani', 'runs': {'batsman': 2, 'extras': 0, 'total': 2}}}, {9.5: {'batsman': 'MM Lanning', 'bowler': 'EM Bermingham', 'non_striker': 'EJ Villani', 'runs': {'batsman': 1, 'extras': 0, 'total': 1}}}, {9.6: {'batsman': 'EJ Villani', 'bowler': 'EM Bermingham', 'non_striker': 'MM Lanning', 'runs': {'batsman': 1, 'extras': 0, 'total': 1}}}, {10.1: {'batsman': 'EJ Villani', 'bowler': 'AE Satterthwaite', 'non_striker': 'MM Lanning', 'runs': {'batsman': 2, 'extras': 0, 'total': 2}}}, {10.2: {'batsman': 'EJ Villani', 'bowler': 'AE Satterthwaite', 'non_striker': 'MM Lanning', 'runs': {'batsman': 2, 'extras': 0, 'total': 2}}}, {10.3: {'batsman': 'EJ Villani', 'bowler': 'AE Satterthwaite', 'non_striker': 'MM Lanning', 'runs': {'batsman': 1, 'extras': 0, 'total': 1}}}, {10.4: {'batsman': 'MM Lanning', 'bowler': 'AE Satterthwaite', 'non_striker': 'EJ Villani', 'runs': {'batsman': 2, 'extras': 0, 'total': 2}}}, {10.5: {'batsman': 'MM Lanning', 'bowler': 'AE Satterthwaite', 'non_striker': 'EJ Villani', 'runs': {'batsman': 1, 'extras': 0, 'total': 1}}}, {10.6: {'batsman': 'EJ Villani', 'bowler': 'AE Satterthwaite', 'non_striker': 'MM Lanning', 'runs': {'batsman': 4, 'extras': 0, 'total': 4}}}, {11.1: {'batsman': 'MM Lanning', 'bowler': 'SW Bates', 'non_striker': 'EJ Villani', 'runs': {'batsman': 1, 'extras': 0, 'total': 1}}}, {11.2: {'batsman': 'EJ Villani', 'bowler': 'SW Bates', 'non_striker': 'MM Lanning', 'runs': {'batsman': 1, 'extras': 0, 'total': 1}}}, {11.3: {'batsman': 'MM Lanning', 'bowler': 'SW Bates', 'non_striker': 'EJ Villani', 'runs': {'batsman': 0, 'extras': 0, 'total': 0}}}, {11.4: {'batsman': 'MM Lanning', 'bowler': 'SW Bates', 'non_striker': 'EJ Villani', 'runs': {'batsman': 1, 'extras': 0, 'total': 1}}}, {11.5: {'batsman': 'EJ Villani', 'bowler': 'SW Bates', 'non_striker': 'MM Lanning', 'runs': {'batsman': 1, 'extras': 0, 'total': 1}}}, {11.6: {'batsman': 'MM Lanning', 'bowler': 'SW Bates', 'non_striker': 'EJ Villani', 'runs': {'batsman': 4, 'extras': 0, 'total': 4}}}, {12.1: {'batsman': 'EJ Villani', 'bowler': 'LM Kasperek', 'non_striker': 'MM Lanning', 'runs': {'batsman': 1, 'extras': 0, 'total': 1}}}, {12.2: {'batsman': 'MM Lanning', 'bowler': 'LM Kasperek', 'non_striker': 'EJ Villani', 'runs': {'batsman': 1, 'extras': 0, 'total': 1}}}, {12.3: {'batsman': 'EJ Villani', 'bowler': 'LM Kasperek', 'non_striker': 'MM Lanning', 'runs': {'batsman': 1, 'extras': 0, 'total': 1}}}, {12.4: {'batsman': 'MM Lanning', 'bowler': 'LM Kasperek', 'non_striker': 'EJ Villani', 'runs': {'batsman': 4, 'extras': 0, 'total': 4}}}, {12.5: {'batsman': 'MM Lanning', 'bowler': 'LM Kasperek', 'non_striker': 'EJ Villani', 'runs': {'batsman': 1, 'extras': 0, 'total': 1}}}, {12.6: {'batsman': 'EJ Villani', 'bowler': 'LM Kasperek', 'non_striker': 'MM Lanning', 'runs': {'batsman': 3, 'extras': 0, 'total': 3}}}, {13.1: {'batsman': 'EJ Villani', 'bowler': 'LMM Tahuhu', 'non_striker': 'MM Lanning', 'runs': {'batsman': 1, 'extras': 0, 'total': 1}}}, {13.2: {'batsman': 'MM Lanning', 'bowler': 'LMM Tahuhu', 'non_striker': 'EJ Villani', 'runs': {'batsman': 4, 'extras': 0, 'total': 4}}}, {13.3: {'batsman': 'MM Lanning', 'bowler': 'LMM Tahuhu', 'non_striker': 'EJ Villani', 'runs': {'batsman': 1, 'extras': 0, 'total': 1}}}, {13.4: {'batsman': 'EJ Villani', 'bowler': 'LMM Tahuhu', 'non_striker': 'MM Lanning', 'runs': {'batsman': 4, 'extras': 0, 'total': 4}}}, {13.5: {'batsman': 'EJ Villani', 'bowler': 'LMM Tahuhu', 'non_striker': 'MM Lanning', 'runs': {'batsman': 0, 'extras': 0, 'total': 0}}}, {13.6: {'batsman': 'EJ Villani', 'bowler': 'LMM Tahuhu', 'non_striker': 'MM Lanning', 'runs': {'batsman': 1, 'extras': 0, 'total': 1}}}, {14.1: {'batsman': 'EJ Villani', 'bowler': 'LM Kasperek', 'non_striker': 'MM Lanning', 'runs': {'batsman': 1, 'extras': 0, 'total': 1}}}, {14.2: {'batsman': 'MM Lanning', 'bowler': 'LM Kasperek', 'non_striker': 'EJ Villani', 'runs': {'batsman': 1, 'extras': 0, 'total': 1}}}, {14.3: {'batsman': 'EJ Villani', 'bowler': 'LM Kasperek', 'non_striker': 'MM Lanning', 'runs': {'batsman': 2, 'extras': 0, 'total': 2}}}, {14.4: {'batsman': 'EJ Villani', 'bowler': 'LM Kasperek', 'non_striker': 'MM Lanning', 'runs': {'batsman': 0, 'extras': 0, 'total': 0}}}, {14.5: {'batsman': 'EJ Villani', 'bowler': 'LM Kasperek', 'non_striker': 'MM Lanning', 'runs': {'batsman': 2, 'extras': 0, 'total': 2}}}, {14.6: {'batsman': 'EJ Villani', 'bowler': 'LM Kasperek', 'non_striker': 'MM Lanning', 'runs': {'batsman': 4, 'extras': 0, 'total': 4}}}, {15.1: {'batsman': 'MM Lanning', 'bowler': 'HR Huddleston', 'non_striker': 'EJ Villani', 'runs': {'batsman': 1, 'extras': 0, 'total': 1}}}, {15.2: {'batsman': 'EJ Villani', 'bowler': 'HR Huddleston', 'non_striker': 'MM Lanning', 'runs': {'batsman': 1, 'extras': 0, 'total': 1}}}, {15.3: {'batsman': 'MM Lanning', 'bowler': 'HR Huddleston', 'non_striker': 'EJ Villani', 'runs': {'batsman': 0, 'extras': 0, 'total': 0}}}, {15.4: {'batsman': 'MM Lanning', 'bowler': 'HR Huddleston', 'non_striker': 'EJ Villani', 'runs': {'batsman': 1, 'extras': 0, 'total': 1}}}, {15.5: {'batsman': 'EJ Villani', 'bowler': 'HR Huddleston', 'non_striker': 'MM Lanning', 'runs': {'batsman': 1, 'extras': 0, 'total': 1}}}, {15.6: {'batsman': 'MM Lanning', 'bowler': 'HR Huddleston', 'extras': {'byes': 2}, 'non_striker': 'EJ Villani', 'runs': {'batsman': 0, 'extras': 2, 'total': 2}}}, {16.1: {'batsman': 'EJ Villani', 'bowler': 'SW Bates', 'non_striker': 'MM Lanning', 'runs': {'batsman': 1, 'extras': 0, 'total': 1}}}, {16.2: {'batsman': 'MM Lanning', 'bowler': 'SW Bates', 'non_striker': 'EJ Villani', 'runs': {'batsman': 0, 'extras': 0, 'total': 0}}}, {16.3: {'batsman': 'MM Lanning', 'bowler': 'SW Bates', 'non_striker': 'EJ Villani', 'runs': {'batsman': 1, 'extras': 0, 'total': 1}}}, {16.4: {'batsman': 'EJ Villani', 'bowler': 'SW Bates', 'non_striker': 'MM Lanning', 'runs': {'batsman': 1, 'extras': 0, 'total': 1}}}, {16.5: {'batsman': 'MM Lanning', 'bowler': 'SW Bates', 'non_striker': 'EJ Villani', 'runs': {'batsman': 0, 'extras': 0, 'total': 0}, 'wicket': {'fielders': ['HR Huddleston'], 'kind': 'caught', 'player_out': 'MM Lanning'}}}, {16.6: {'batsman': 'EJ Villani', 'bowler': 'SW Bates', 'non_striker': 'AJ Blackwell', 'runs': {'batsman': 1, 'extras': 0, 'total': 1}}}, {17.1: {'batsman': 'EJ Villani', 'bowler': 'HR Huddleston', 'non_striker': 'AJ Blackwell', 'runs': {'batsman': 1, 'extras': 0, 'total': 1}}}, {17.2: {'batsman': 'AJ Blackwell', 'bowler': 'HR Huddleston', 'non_striker': 'EJ Villani', 'runs': {'batsman': 1, 'extras': 0, 'total': 1}}}, {17.3: {'batsman': 'EJ Villani', 'bowler': 'HR Huddleston', 'extras': {'legbyes': 1}, 'non_striker': 'AJ Blackwell', 'runs': {'batsman': 0, 'extras': 1, 'total': 1}}}, {17.4: {'batsman': 'AJ Blackwell', 'bowler': 'HR Huddleston', 'non_striker': 'EJ Villani', 'runs': {'batsman': 1, 'extras': 0, 'total': 1}}}, {17.5: {'batsman': 'EJ Villani', 'bowler': 'HR Huddleston', 'non_striker': 'AJ Blackwell', 'runs': {'batsman': 1, 'extras': 0, 'total': 1}}}, {17.6: {'batsman': 'AJ Blackwell', 'bowler': 'HR Huddleston', 'non_striker': 'EJ Villani', 'runs': {'batsman': 1, 'extras': 0, 'total': 1}}}, {18.1: {'batsman': 'AJ Blackwell', 'bowler': 'SW Bates', 'non_striker': 'EJ Villani', 'runs': {'batsman': 1, 'extras': 0, 'total': 1}}}, {18.2: {'batsman': 'EJ Villani', 'bowler': 'SW Bates', 'non_striker': 'AJ Blackwell', 'runs': {'batsman': 1, 'extras': 0, 'total': 1}}}, {18.3: {'batsman': 'AJ Blackwell', 'bowler': 'SW Bates', 'non_striker': 'EJ Villani', 'runs': {'batsman': 0, 'extras': 0, 'total': 0}}}, {18.4: {'batsman': 'AJ Blackwell', 'bowler': 'SW Bates', 'non_striker': 'EJ Villani', 'runs': {'batsman': 0, 'extras': 0, 'total': 0}}}, {18.5: {'batsman': 'AJ Blackwell', 'bowler': 'SW Bates', 'non_striker': 'EJ Villani', 'runs': {'batsman': 1, 'extras': 0, 'total': 1}}}, {18.6: {'batsman': 'EJ Villani', 'bowler': 'SW Bates', 'non_striker': 'AJ Blackwell', 'runs': {'batsman': 2, 'extras': 0, 'total': 2}}}, {19.1: {'batsman': 'AJ Blackwell', 'bowler': 'LM Kasperek', 'non_striker': 'EJ Villani', 'runs': {'batsman': 1, 'extras': 0, 'total': 1}}}, {19.2: {'batsman': 'EJ Villani', 'bowler': 'LM Kasperek', 'non_striker': 'AJ Blackwell', 'runs': {'batsman': 4, 'extras': 0, 'total': 4}}}, {19.3: {'batsman': 'EJ Villani', 'bowler': 'LM Kasperek', 'non_striker': 'AJ Blackwell', 'runs': {'batsman': 1, 'extras': 0, 'total': 1}}}, {19.4: {'batsman': 'AJ Blackwell', 'bowler': 'LM Kasperek', 'non_striker': 'EJ Villani', 'runs': {'batsman': 1, 'extras': 0, 'total': 1}}}, {19.5: {'batsman': 'EJ Villani', 'bowler': 'LM Kasperek', 'non_striker': 'AJ Blackwell', 'runs': {'batsman': 1, 'extras': 0, 'total': 1}}}, {19.6: {'batsman': 'AJ Blackwell', 'bowler': 'LM Kasperek', 'non_striker': 'EJ Villani', 'runs': {'batsman': 1, 'extras': 0, 'total': 1}, 'wicket': {'fielders': ['AE Satterthwaite', 'RH Priest'], 'kind': 'run out', 'player_out': 'AJ Blackwell'}}}]}}, {'2nd innings': {'team': 'New Zealand', 'deliveries': [{0.1: {'batsman': 'SW Bates', 'bowler': 'ML Schutt', 'non_striker': 'RH Priest', 'runs': {'batsman': 2, 'extras': 0, 'total': 2}}}, {0.2: {'batsman': 'SW Bates', 'bowler': 'ML Schutt', 'non_striker': 'RH Priest', 'runs': {'batsman': 0, 'extras': 0, 'total': 0}}}, {0.3: {'batsman': 'SW Bates', 'bowler': 'ML Schutt', 'non_striker': 'RH Priest', 'runs': {'batsman': 4, 'extras': 0, 'total': 4}}}, {0.4: {'batsman': 'SW Bates', 'bowler': 'ML Schutt', 'non_striker': 'RH Priest', 'runs': {'batsman': 0, 'extras': 0, 'total': 0}}}, {0.5: {'batsman': 'SW Bates', 'bowler': 'ML Schutt', 'non_striker': 'RH Priest', 'runs': {'batsman': 1, 'extras': 0, 'total': 1}}}, {0.6: {'batsman': 'RH Priest', 'bowler': 'ML Schutt', 'non_striker': 'SW Bates', 'runs': {'batsman': 1, 'extras': 0, 'total': 1}}}, {1.1: {'batsman': 'RH Priest', 'bowler': 'JL Jonassen', 'non_striker': 'SW Bates', 'runs': {'batsman': 0, 'extras': 0, 'total': 0}}}, {1.2: {'batsman': 'RH Priest', 'bowler': 'JL Jonassen', 'non_striker': 'SW Bates', 'runs': {'batsman': 1, 'extras': 0, 'total': 1}}}, {1.3: {'batsman': 'SW Bates', 'bowler': 'JL Jonassen', 'non_striker': 'RH Priest', 'runs': {'batsman': 1, 'extras': 0, 'total': 1}}}, {1.4: {'batsman': 'RH Priest', 'bowler': 'JL Jonassen', 'extras': {'legbyes': 1}, 'non_striker': 'SW Bates', 'runs': {'batsman': 0, 'extras': 1, 'total': 1}}}, {1.5: {'batsman': 'SW Bates', 'bowler': 'JL Jonassen', 'non_striker': 'RH Priest', 'runs': {'batsman': 1, 'extras': 0, 'total': 1}}}, {1.6: {'batsman': 'RH Priest', 'bowler': 'JL Jonassen', 'non_striker': 'SW Bates', 'runs': {'batsman': 1, 'extras': 0, 'total': 1}}}, {2.1: {'batsman': 'RH Priest', 'bowler': 'M Strano', 'non_striker': 'SW Bates', 'runs': {'batsman': 0, 'extras': 0, 'total': 0}}}, {2.2: {'batsman': 'RH Priest', 'bowler': 'M Strano', 'non_striker': 'SW Bates', 'runs': {'batsman': 1, 'extras': 0, 'total': 1}}}, {2.3: {'batsman': 'SW Bates', 'bowler': 'M Strano', 'non_striker': 'RH Priest', 'runs': {'batsman': 0, 'extras': 0, 'total': 0}}}, {2.4: {'batsman': 'SW Bates', 'bowler': 'M Strano', 'non_striker': 'RH Priest', 'runs': {'batsman': 2, 'extras': 0, 'total': 2}}}, {2.5: {'batsman': 'SW Bates', 'bowler': 'M Strano', 'non_striker': 'RH Priest', 'runs': {'batsman': 0, 'extras': 0, 'total': 0}}}, {2.6: {'batsman': 'SW Bates', 'bowler': 'M Strano', 'non_striker': 'RH Priest', 'runs': {'batsman': 0, 'extras': 0, 'total': 0}}}, {3.1: {'batsman': 'RH Priest', 'bowler': 'JL Jonassen', 'non_striker': 'SW Bates', 'runs': {'batsman': 0, 'extras': 0, 'total': 0}}}, {3.2: {'batsman': 'RH Priest', 'bowler': 'JL Jonassen', 'non_striker': 'SW Bates', 'runs': {'batsman': 1, 'extras': 0, 'total': 1}}}, {3.3: {'batsman': 'SW Bates', 'bowler': 'JL Jonassen', 'non_striker': 'RH Priest', 'runs': {'batsman': 0, 'extras': 0, 'total': 0}}}, {3.4: {'batsman': 'SW Bates', 'bowler': 'JL Jonassen', 'non_striker': 'RH Priest', 'runs': {'batsman': 0, 'extras': 0, 'total': 0}}}, {3.5: {'batsman': 'SW Bates', 'bowler': 'JL Jonassen', 'non_striker': 'RH Priest', 'runs': {'batsman': 1, 'extras': 0, 'total': 1}}}, {3.6: {'batsman': 'RH Priest', 'bowler': 'JL Jonassen', 'non_striker': 'SW Bates', 'runs': {'batsman': 0, 'extras': 0, 'total': 0}}}, {4.1: {'batsman': 'SW Bates', 'bowler': 'KM Beams', 'non_striker': 'RH Priest', 'runs': {'batsman': 0, 'extras': 0, 'total': 0}}}, {4.2: {'batsman': 'SW Bates', 'bowler': 'KM Beams', 'non_striker': 'RH Priest', 'runs': {'batsman': 0, 'extras': 0, 'total': 0}}}, {4.3: {'batsman': 'SW Bates', 'bowler': 'KM Beams', 'non_striker': 'RH Priest', 'runs': {'batsman': 4, 'extras': 0, 'total': 4}}}, {4.4: {'batsman': 'SW Bates', 'bowler': 'KM Beams', 'non_striker': 'RH Priest', 'runs': {'batsman': 4, 'extras': 0, 'total': 4}}}, {4.5: {'batsman': 'SW Bates', 'bowler': 'KM Beams', 'non_striker': 'RH Priest', 'runs': {'batsman': 0, 'extras': 0, 'total': 0}}}, {4.6: {'batsman': 'SW Bates', 'bowler': 'KM Beams', 'non_striker': 'RH Priest', 'runs': {'batsman': 0, 'extras': 0, 'total': 0}}}, {5.1: {'batsman': 'RH Priest', 'bowler': 'M Strano', 'non_striker': 'SW Bates', 'runs': {'batsman': 2, 'extras': 0, 'total': 2}}}, {5.2: {'batsman': 'RH Priest', 'bowler': 'M Strano', 'non_striker': 'SW Bates', 'runs': {'batsman': 0, 'extras': 0, 'total': 0}, 'wicket': {'fielders': ['MM Lanning'], 'kind': 'caught', 'player_out': 'RH Priest'}}}, {5.3: {'batsman': 'AM Peterson', 'bowler': 'M Strano', 'non_striker': 'SW Bates', 'runs': {'batsman': 1, 'extras': 0, 'total': 1}}}, {5.4: {'batsman': 'SW Bates', 'bowler': 'M Strano', 'non_striker': 'AM Peterson', 'runs': {'batsman': 0, 'extras': 0, 'total': 0}}}, {5.5: {'batsman': 'SW Bates', 'bowler': 'M Strano', 'non_striker': 'AM Peterson', 'runs': {'batsman': 1, 'extras': 0, 'total': 1}}}, {5.6: {'batsman': 'AM Peterson', 'bowler': 'M Strano', 'non_striker': 'SW Bates', 'runs': {'batsman': 0, 'extras': 0, 'total': 0}}}, {6.1: {'batsman': 'SW Bates', 'bowler': 'JL Jonassen', 'non_striker': 'AM Peterson', 'runs': {'batsman': 0, 'extras': 0, 'total': 0}}}, {6.2: {'batsman': 'SW Bates', 'bowler': 'JL Jonassen', 'non_striker': 'AM Peterson', 'runs': {'batsman': 0, 'extras': 0, 'total': 0}}}, {6.3: {'batsman': 'SW Bates', 'bowler': 'JL Jonassen', 'non_striker': 'AM Peterson', 'runs': {'batsman': 1, 'extras': 0, 'total': 1}}}, {6.4: {'batsman': 'AM Peterson', 'bowler': 'JL Jonassen', 'non_striker': 'SW Bates', 'runs': {'batsman': 0, 'extras': 0, 'total': 0}, 'wicket': {'kind': 'bowled', 'player_out': 'AM Peterson'}}}, {6.5: {'batsman': 'AE Satterthwaite', 'bowler': 'JL Jonassen', 'extras': {'legbyes': 1}, 'non_striker': 'SW Bates', 'runs': {'batsman': 0, 'extras': 1, 'total': 1}}}, {6.6: {'batsman': 'SW Bates', 'bowler': 'JL Jonassen', 'non_striker': 'AE Satterthwaite', 'runs': {'batsman': 1, 'extras': 0, 'total': 1}}}, {7.1: {'batsman': 'SW Bates', 'bowler': 'A Wellington', 'non_striker': 'AE Satterthwaite', 'runs': {'batsman': 0, 'extras': 0, 'total': 0}}}, {7.2: {'batsman': 'SW Bates', 'bowler': 'A Wellington', 'non_striker': 'AE Satterthwaite', 'runs': {'batsman': 1, 'extras': 0, 'total': 1}}}, {7.3: {'batsman': 'AE Satterthwaite', 'bowler': 'A Wellington', 'non_striker': 'SW Bates', 'runs': {'batsman': 0, 'extras': 0, 'total': 0}}}, {7.4: {'batsman': 'AE Satterthwaite', 'bowler': 'A Wellington', 'non_striker': 'SW Bates', 'runs': {'batsman': 2, 'extras': 0, 'total': 2}}}, {7.5: {'batsman': 'AE Satterthwaite', 'bowler': 'A Wellington', 'non_striker': 'SW Bates', 'runs': {'batsman': 0, 'extras': 0, 'total': 0}}}, {7.6: {'batsman': 'AE Satterthwaite', 'bowler': 'A Wellington', 'non_striker': 'SW Bates', 'runs': {'batsman': 1, 'extras': 0, 'total': 1}}}, {8.1: {'batsman': 'AE Satterthwaite', 'bowler': 'ML Schutt', 'non_striker': 'SW Bates', 'runs': {'batsman': 0, 'extras': 0, 'total': 0}}}, {8.2: {'batsman': 'AE Satterthwaite', 'bowler': 'ML Schutt', 'non_striker': 'SW Bates', 'runs': {'batsman': 0, 'extras': 0, 'total': 0}}}, {8.3: {'batsman': 'AE Satterthwaite', 'bowler': 'ML Schutt', 'non_striker': 'SW Bates', 'runs': {'batsman': 0, 'extras': 0, 'total': 0}}}, {8.4: {'batsman': 'AE Satterthwaite', 'bowler': 'ML Schutt', 'non_striker': 'SW Bates', 'runs': {'batsman': 1, 'extras': 0, 'total': 1}}}, {8.5: {'batsman': 'SW Bates', 'bowler': 'ML Schutt', 'non_striker': 'AE Satterthwaite', 'runs': {'batsman': 1, 'extras': 0, 'total': 1}}}, {8.6: {'batsman': 'AE Satterthwaite', 'bowler': 'ML Schutt', 'non_striker': 'SW Bates', 'runs': {'batsman': 1, 'extras': 0, 'total': 1}}}, {9.1: {'batsman': 'AE Satterthwaite', 'bowler': 'A Wellington', 'non_striker': 'SW Bates', 'runs': {'batsman': 1, 'extras': 0, 'total': 1}}}, {9.2: {'batsman': 'SW Bates', 'bowler': 'A Wellington', 'non_striker': 'AE Satterthwaite', 'runs': {'batsman': 0, 'extras': 0, 'total': 0}}}, {9.3: {'batsman': 'SW Bates', 'bowler': 'A Wellington', 'non_striker': 'AE Satterthwaite', 'runs': {'batsman': 0, 'extras': 0, 'total': 0}}}, {9.4: {'batsman': 'SW Bates', 'bowler': 'A Wellington', 'non_striker': 'AE Satterthwaite', 'runs': {'batsman': 1, 'extras': 0, 'total': 1}}}, {9.5: {'batsman': 'AE Satterthwaite', 'bowler': 'A Wellington', 'non_striker': 'SW Bates', 'runs': {'batsman': 0, 'extras': 0, 'total': 0}}}, {9.6: {'batsman': 'AE Satterthwaite', 'bowler': 'A Wellington', 'non_striker': 'SW Bates', 'runs': {'batsman': 1, 'extras': 0, 'total': 1}}}, {10.1: {'batsman': 'AE Satterthwaite', 'bowler': 'KM Beams', 'non_striker': 'SW Bates', 'runs': {'batsman': 0, 'extras': 0, 'total': 0}}}, {10.2: {'batsman': 'AE Satterthwaite', 'bowler': 'KM Beams', 'non_striker': 'SW Bates', 'runs': {'batsman': 2, 'extras': 0, 'total': 2}}}, {10.3: {'batsman': 'AE Satterthwaite', 'bowler': 'KM Beams', 'non_striker': 'SW Bates', 'runs': {'batsman': 1, 'extras': 0, 'total': 1}}}, {10.4: {'batsman': 'SW Bates', 'bowler': 'KM Beams', 'non_striker': 'AE Satterthwaite', 'runs': {'batsman': 0, 'extras': 0, 'total': 0}, 'wicket': {'fielders': ['EJ Villani'], 'kind': 'caught', 'player_out': 'SW Bates'}}}, {10.5: {'batsman': 'KJ Martin', 'bowler': 'KM Beams', 'non_striker': 'AE Satterthwaite', 'runs': {'batsman': 2, 'extras': 0, 'total': 2}}}, {10.6: {'batsman': 'KJ Martin', 'bowler': 'KM Beams', 'non_striker': 'AE Satterthwaite', 'runs': {'batsman': 2, 'extras': 0, 'total': 2}}}, {11.1: {'batsman': 'AE Satterthwaite', 'bowler': 'A Wellington', 'non_striker': 'KJ Martin', 'runs': {'batsman': 1, 'extras': 0, 'total': 1}}}, {11.2: {'batsman': 'KJ Martin', 'bowler': 'A Wellington', 'non_striker': 'AE Satterthwaite', 'runs': {'batsman': 0, 'extras': 0, 'total': 0}, 'wicket': {'fielders': ['JL Jonassen'], 'kind': 'caught', 'player_out': 'KJ Martin'}}}, {11.3: {'batsman': 'EM Bermingham', 'bowler': 'A Wellington', 'non_striker': 'AE Satterthwaite', 'runs': {'batsman': 3, 'extras': 0, 'total': 3}}}, {11.4: {'batsman': 'AE Satterthwaite', 'bowler': 'A Wellington', 'non_striker': 'EM Bermingham', 'runs': {'batsman': 1, 'extras': 0, 'total': 1}}}, {11.5: {'batsman': 'EM Bermingham', 'bowler': 'A Wellington', 'non_striker': 'AE Satterthwaite', 'runs': {'batsman': 0, 'extras': 0, 'total': 0}}}, {11.6: {'batsman': 'EM Bermingham', 'bowler': 'A Wellington', 'non_striker': 'AE Satterthwaite', 'runs': {'batsman': 0, 'extras': 0, 'total': 0}}}, {12.1: {'batsman': 'AE Satterthwaite', 'bowler': 'KM Beams', 'extras': {'byes': 3}, 'non_striker': 'EM Bermingham', 'runs': {'batsman': 0, 'extras': 3, 'total': 3}}}, {12.2: {'batsman': 'EM Bermingham', 'bowler': 'KM Beams', 'non_striker': 'AE Satterthwaite', 'runs': {'batsman': 0, 'extras': 0, 'total': 0}, 'wicket': {'kind': 'lbw', 'player_out': 'EM Bermingham'}}}, {12.3: {'batsman': 'KT Perkins', 'bowler': 'KM Beams', 'non_striker': 'AE Satterthwaite', 'runs': {'batsman': 0, 'extras': 0, 'total': 0}}}, {12.4: {'batsman': 'KT Perkins', 'bowler': 'KM Beams', 'non_striker': 'AE Satterthwaite', 'runs': {'batsman': 1, 'extras': 0, 'total': 1}}}, {12.5: {'batsman': 'AE Satterthwaite', 'bowler': 'KM Beams', 'non_striker': 'KT Perkins', 'runs': {'batsman': 1, 'extras': 0, 'total': 1}}}, {12.6: {'batsman': 'KT Perkins', 'bowler': 'KM Beams', 'non_striker': 'AE Satterthwaite', 'runs': {'batsman': 0, 'extras': 0, 'total': 0}}}, {13.1: {'batsman': 'AE Satterthwaite', 'bowler': 'A Wellington', 'non_striker': 'KT Perkins', 'runs': {'batsman': 1, 'extras': 0, 'total': 1}}}, {13.2: {'batsman': 'KT Perkins', 'bowler': 'A Wellington', 'non_striker': 'AE Satterthwaite', 'runs': {'batsman': 0, 'extras': 0, 'total': 0}, 'wicket': {'fielders': ['M Strano'], 'kind': 'caught', 'player_out': 'KT Perkins'}}}, {13.3: {'batsman': 'EC Perry', 'bowler': 'A Wellington', 'non_striker': 'AE Satterthwaite', 'runs': {'batsman': 0, 'extras': 0, 'total': 0}}}, {13.4: {'batsman': 'EC Perry', 'bowler': 'A Wellington', 'non_striker': 'AE Satterthwaite', 'runs': {'batsman': 2, 'extras': 0, 'total': 2}}}, {13.5: {'batsman': 'EC Perry', 'bowler': 'A Wellington', 'non_striker': 'AE Satterthwaite', 'runs': {'batsman': 0, 'extras': 0, 'total': 0}}}, {13.6: {'batsman': 'EC Perry', 'bowler': 'A Wellington', 'non_striker': 'AE Satterthwaite', 'runs': {'batsman': 0, 'extras': 0, 'total': 0}, 'wicket': {'fielders': ['AJ Healy'], 'kind': 'stumped', 'player_out': 'EC Perry'}}}, {14.1: {'batsman': 'AE Satterthwaite', 'bowler': 'ML Schutt', 'non_striker': 'HR Huddleston', 'runs': {'batsman': 0, 'extras': 0, 'total': 0}}}, {14.2: {'batsman': 'AE Satterthwaite', 'bowler': 'ML Schutt', 'non_striker': 'HR Huddleston', 'runs': {'batsman': 1, 'extras': 0, 'total': 1}}}, {14.3: {'batsman': 'HR Huddleston', 'bowler': 'ML Schutt', 'non_striker': 'AE Satterthwaite', 'runs': {'batsman': 0, 'extras': 0, 'total': 0}}}, {14.4: {'batsman': 'HR Huddleston', 'bowler': 'ML Schutt', 'non_striker': 'AE Satterthwaite', 'runs': {'batsman': 0, 'extras': 0, 'total': 0}}}, {14.5: {'batsman': 'HR Huddleston', 'bowler': 'ML Schutt', 'non_striker': 'AE Satterthwaite', 'runs': {'batsman': 0, 'extras': 0, 'total': 0}}}, {14.6: {'batsman': 'HR Huddleston', 'bowler': 'ML Schutt', 'non_striker': 'AE Satterthwaite', 'runs': {'batsman': 1, 'extras': 0, 'total': 1}}}, {15.1: {'batsman': 'HR Huddleston', 'bowler': 'M Strano', 'non_striker': 'AE Satterthwaite', 'runs': {'batsman': 0, 'extras': 0, 'total': 0}}}, {15.2: {'batsman': 'HR Huddleston', 'bowler': 'M Strano', 'non_striker': 'AE Satterthwaite', 'runs': {'batsman': 1, 'extras': 0, 'total': 1}}}, {15.3: {'batsman': 'AE Satterthwaite', 'bowler': 'M Strano', 'non_striker': 'HR Huddleston', 'runs': {'batsman': 0, 'extras': 0, 'total': 0}}}, {15.4: {'batsman': 'AE Satterthwaite', 'bowler': 'M Strano', 'non_striker': 'HR Huddleston', 'runs': {'batsman': 0, 'extras': 0, 'total': 0}}}, {15.5: {'batsman': 'AE Satterthwaite', 'bowler': 'M Strano', 'non_striker': 'HR Huddleston', 'runs': {'batsman': 0, 'extras': 0, 'total': 0}}}, {15.6: {'batsman': 'AE Satterthwaite', 'bowler': 'M Strano', 'non_striker': 'HR Huddleston', 'runs': {'batsman': 4, 'extras': 0, 'total': 4}}}, {16.1: {'batsman': 'HR Huddleston', 'bowler': 'KM Beams', 'non_striker': 'AE Satterthwaite', 'runs': {'batsman': 0, 'extras': 0, 'total': 0}}}, {16.2: {'batsman': 'HR Huddleston', 'bowler': 'KM Beams', 'extras': {'legbyes': 1}, 'non_striker': 'AE Satterthwaite', 'runs': {'batsman': 0, 'extras': 1, 'total': 1}}}, {16.3: {'batsman': 'AE Satterthwaite', 'bowler': 'KM Beams', 'non_striker': 'HR Huddleston', 'runs': {'batsman': 1, 'extras': 0, 'total': 1}}}, {16.4: {'batsman': 'HR Huddleston', 'bowler': 'KM Beams', 'extras': {'wides': 4}, 'non_striker': 'AE Satterthwaite', 'runs': {'batsman': 0, 'extras': 4, 'total': 4}}}, {16.5: {'batsman': 'AE Satterthwaite', 'bowler': 'KM Beams', 'non_striker': 'HR Huddleston', 'runs': {'batsman': 0, 'extras': 0, 'total': 0}}}, {16.6: {'batsman': 'AE Satterthwaite', 'bowler': 'KM Beams', 'non_striker': 'HR Huddleston', 'runs': {'batsman': 1, 'extras': 0, 'total': 1}}}, {16.7: {'batsman': 'HR Huddleston', 'bowler': 'KM Beams', 'non_striker': 'AE Satterthwaite', 'runs': {'batsman': 1, 'extras': 0, 'total': 1}}}, {17.1: {'batsman': 'HR Huddleston', 'bowler': 'ML Schutt', 'non_striker': 'AE Satterthwaite', 'runs': {'batsman': 0, 'extras': 0, 'total': 0}}}, {17.2: {'batsman': 'HR Huddleston', 'bowler': 'ML Schutt', 'non_striker': 'AE Satterthwaite', 'runs': {'batsman': 2, 'extras': 0, 'total': 2}}}, {17.3: {'batsman': 'HR Huddleston', 'bowler': 'ML Schutt', 'non_striker': 'AE Satterthwaite', 'runs': {'batsman': 0, 'extras': 0, 'total': 0}}}, {17.4: {'batsman': 'HR Huddleston', 'bowler': 'ML Schutt', 'extras': {'byes': 2}, 'non_striker': 'AE Satterthwaite', 'runs': {'batsman': 0, 'extras': 2, 'total': 2}}}, {17.5: {'batsman': 'HR Huddleston', 'bowler': 'ML Schutt', 'non_striker': 'AE Satterthwaite', 'runs': {'batsman': 0, 'extras': 0, 'total': 0}, 'wicket': {'kind': 'bowled', 'player_out': 'HR Huddleston'}}}, {17.6: {'batsman': 'LMM Tahuhu', 'bowler': 'ML Schutt', 'non_striker': 'AE Satterthwaite', 'runs': {'batsman': 2, 'extras': 0, 'total': 2}}}, {18.1: {'batsman': 'AE Satterthwaite', 'bowler': 'M Strano', 'non_striker': 'LMM Tahuhu', 'runs': {'batsman': 0, 'extras': 0, 'total': 0}}}, {18.2: {'batsman': 'AE Satterthwaite', 'bowler': 'M Strano', 'non_striker': 'LMM Tahuhu', 'runs': {'batsman': 1, 'extras': 0, 'total': 1}}}, {18.3: {'batsman': 'LMM Tahuhu', 'bowler': 'M Strano', 'non_striker': 'AE Satterthwaite', 'runs': {'batsman': 2, 'extras': 0, 'total': 2}}}, {18.4: {'batsman': 'LMM Tahuhu', 'bowler': 'M Strano', 'non_striker': 'AE Satterthwaite', 'runs': {'batsman': 1, 'extras': 0, 'total': 1}}}, {18.5: {'batsman': 'AE Satterthwaite', 'bowler': 'M Strano', 'non_striker': 'LMM Tahuhu', 'runs': {'batsman': 2, 'extras': 0, 'total': 2}}}, {18.6: {'batsman': 'AE Satterthwaite', 'bowler': 'M Strano', 'non_striker': 'LMM Tahuhu', 'runs': {'batsman': 4, 'extras': 0, 'total': 4}}}, {19.1: {'batsman': 'LMM Tahuhu', 'bowler': 'JL Jonassen', 'non_striker': 'AE Satterthwaite', 'runs': {'batsman': 4, 'extras': 0, 'total': 4}}}, {19.2: {'batsman': 'LMM Tahuhu', 'bowler': 'JL Jonassen', 'non_striker': 'AE Satterthwaite', 'runs': {'batsman': 1, 'extras': 0, 'total': 1}}}, {19.3: {'batsman': 'AE Satterthwaite', 'bowler': 'JL Jonassen', 'non_striker': 'LMM Tahuhu', 'runs': {'batsman': 4, 'extras': 0, 'total': 4}}}, {19.4: {'batsman': 'AE Satterthwaite', 'bowler': 'JL Jonassen', 'non_striker': 'LMM Tahuhu', 'runs': {'batsman': 4, 'extras': 0, 'total': 4}}}, {19.5: {'batsman': 'AE Satterthwaite', 'bowler': 'JL Jonassen', 'non_striker': 'LMM Tahuhu', 'runs': {'batsman': 2, 'extras': 0, 'total': 2}}}, {19.6: {'batsman': 'AE Satterthwaite', 'bowler': 'JL Jonassen', 'non_striker': 'LMM Tahuhu', 'runs': {'batsman': 2, 'extras': 0, 'total': 2}}}]}}]}\n"
          ]
        }
      ]
    },
    {
      "cell_type": "code",
      "source": [
        "# Create the graph\n",
        "g = Graph()\n",
        "# Bind the namespaces to a prefix for more readable output\n",
        "g.bind(\"foaf\", FOAF)\n",
        "g.bind(\"xsd\", XSD)\n",
        "g.bind(\"skos\", SKOS)\n",
        "g.bind(\"cri\", CRI)"
      ],
      "metadata": {
        "id": "XwB7GbDGm-PL"
      },
      "id": "XwB7GbDGm-PL",
      "execution_count": 7,
      "outputs": []
    },
    {
      "cell_type": "code",
      "source": [
        "# Get the filename without the extension\n",
        "filename_without_extension = os.path.splitext(os.path.basename(matchUrl))[0]"
      ],
      "metadata": {
        "id": "b6WkE9sIr8ZV"
      },
      "id": "b6WkE9sIr8ZV",
      "execution_count": 8,
      "outputs": []
    },
    {
      "cell_type": "code",
      "source": [
        "# Create the node to add to the graph\n",
        "# Creating an instance of a Match\n",
        "# The node has the namespace + the match id(filename) as URI\n",
        "idM = \"match_\" + filename_without_extension\n",
        "Match = URIRef(CRI[idM])"
      ],
      "metadata": {
        "id": "BBH6twNRsPqm"
      },
      "id": "BBH6twNRsPqm",
      "execution_count": 9,
      "outputs": []
    },
    {
      "cell_type": "code",
      "source": [
        "# Add triples using store's add() method\n",
        "g.add((Match, RDF.type, CRI.Match))  # Add triple for Match type"
      ],
      "metadata": {
        "colab": {
          "base_uri": "https://localhost:8080/"
        },
        "id": "pYLBxX1TsVLs",
        "outputId": "f1a6abfb-f60e-4551-9cb9-4de58b9f63fd"
      },
      "id": "pYLBxX1TsVLs",
      "execution_count": 10,
      "outputs": [
        {
          "output_type": "execute_result",
          "data": {
            "text/plain": [
              "<Graph identifier=Nc38c3d415b0a4c2f9ecf1bc17127b162 (<class 'rdflib.graph.Graph'>)>"
            ]
          },
          "metadata": {},
          "execution_count": 10
        }
      ]
    },
    {
      "cell_type": "code",
      "source": [
        "# Process innings data\n",
        "from rdflib import Graph, Literal, RDF, URIRef\n",
        "from rdflib.namespace import XSD\n",
        "\n",
        "# Assuming matchData and CRI namespace are already defined\n",
        "innings_data = matchData.get('innings', [])\n",
        "for inning_index, inning in enumerate(innings_data, start=1):\n",
        "    inning_key = list(inning.keys())[0]  # Get key (\"1st innings\" or \"2nd innings\")\n",
        "    inning_info = inning[inning_key]\n",
        "\n",
        "    # Create Inning and Team URIs\n",
        "    idInning = f\"innings{inning_index}_{filename_without_extension}\"\n",
        "    Inning = URIRef(CRI[idInning])\n",
        "    team_name = inning_info['team'].replace(' ', '')\n",
        "    BattingTeam = URIRef(CRI[f\"team{team_name}\"])\n",
        "\n",
        "    # Add triples for the inning\n",
        "    g.add((Inning, RDF.type, CRI.Innings))\n",
        "    g.add((Inning, CRI.hasBattingTeam, BattingTeam))\n",
        "\n",
        "    # Add totalBallsDelivery as xsd:integer\n",
        "    total_deliveries = len(inning_info.get('deliveries', []))\n",
        "    g.add((Inning, CRI.totalBallsDelivery, Literal(total_deliveries, datatype=XSD.Integer)))\n",
        "\n",
        "    # Link innings to the match\n",
        "    match_uri = URIRef(CRI[f\"match{filename_without_extension}\"])\n",
        "    if inning_index == 1:\n",
        "        g.add((match_uri, CRI.hasFirstInnings, Inning))\n",
        "        g.add((Inning, CRI.isFirstInningsOf, match_uri))\n",
        "    elif inning_index == 2:\n",
        "        g.add((match_uri, CRI.hasSecondInnings, Inning))\n",
        "        g.add((Inning, CRI.isSecondInningsOf, match_uri))\n",
        "\n",
        "# Print the serialized RDF output to check\n",
        "print(\"Graph serialized to Turtle format:\")\n",
        "print(g.serialize(format=\"turtle\"))\n",
        "\n",
        "# Serialize RDF graph to a Turtle file\n",
        "output_file = os.path.join(savePath, f\"{filename_without_extension}_innings.ttl\")\n",
        "os.makedirs(os.path.dirname(output_file), exist_ok=True)\n",
        "g.serialize(destination=output_file, format=\"turtle\")\n",
        "\n",
        "print(f\"RDF triples serialized to {output_file}\")"
      ],
      "metadata": {
        "colab": {
          "base_uri": "https://localhost:8080/"
        },
        "id": "mEGIbB_YbXe5",
        "outputId": "5f36db89-e176-4c83-db99-e1db0c134a6e"
      },
      "id": "mEGIbB_YbXe5",
      "execution_count": 11,
      "outputs": [
        {
          "output_type": "stream",
          "name": "stdout",
          "text": [
            "Graph serialized to Turtle format:\n",
            "@prefix cri: <https://www.dei.unipd.it/lodb/cri/> .\n",
            "@prefix xsd: <http://www.w3.org/2001/XMLSchema#> .\n",
            "\n",
            "cri:match_1043989 a cri:Match .\n",
            "\n",
            "cri:innings1_1043989 a cri:Innings ;\n",
            "    cri:hasBattingTeam cri:teamAustralia ;\n",
            "    cri:isFirstInningsOf cri:match1043989 ;\n",
            "    cri:totalBallsDelivery \"122\"^^xsd:Integer .\n",
            "\n",
            "cri:innings2_1043989 a cri:Innings ;\n",
            "    cri:hasBattingTeam cri:teamNewZealand ;\n",
            "    cri:isSecondInningsOf cri:match1043989 ;\n",
            "    cri:totalBallsDelivery \"121\"^^xsd:Integer .\n",
            "\n",
            "cri:match1043989 cri:hasFirstInnings cri:innings1_1043989 ;\n",
            "    cri:hasSecondInnings cri:innings2_1043989 .\n",
            "\n",
            "\n",
            "RDF triples serialized to /content/Innings_Serialization/1043989_innings.ttl\n"
          ]
        },
        {
          "output_type": "stream",
          "name": "stderr",
          "text": [
            "<ipython-input-11-817277b08f7e>:23: UserWarning: Code: Integer is not defined in namespace XSD\n",
            "  g.add((Inning, CRI.totalBallsDelivery, Literal(total_deliveries, datatype=XSD.Integer)))\n"
          ]
        }
      ]
    }
  ],
  "metadata": {
    "kernelspec": {
      "display_name": "Python 3 (ipykernel)",
      "language": "python",
      "name": "python3"
    },
    "language_info": {
      "codemirror_mode": {
        "name": "ipython",
        "version": 3
      },
      "file_extension": ".py",
      "mimetype": "text/x-python",
      "name": "python",
      "nbconvert_exporter": "python",
      "pygments_lexer": "ipython3",
      "version": "3.11.7"
    },
    "colab": {
      "provenance": []
    }
  },
  "nbformat": 4,
  "nbformat_minor": 5
}